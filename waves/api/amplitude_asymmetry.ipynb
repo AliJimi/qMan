{
 "cells": [
  {
   "cell_type": "code",
   "execution_count": 3,
   "id": "811227cb",
   "metadata": {},
   "outputs": [],
   "source": [
    "from scipy.signal import butter, lfilter\n",
    "def butter_bandpass(lowcut, highcut, fs, order=5):\n",
    "    nyq = 0.5 * fs\n",
    "    low = lowcut / nyq\n",
    "    high = highcut / nyq\n",
    "    b, a = butter(order, [low, high], btype='band')\n",
    "    return b, a\n",
    "def butter_bandpass_filter(data, lowcut, highcut, fs, order=5):\n",
    "    b, a = butter_bandpass(lowcut, highcut, fs, order=order)\n",
    "    y = lfilter(b, a, data)\n",
    "    return y"
   ]
  },
  {
   "cell_type": "code",
   "execution_count": 1,
   "id": "cbfc5207",
   "metadata": {},
   "outputs": [],
   "source": [
    "from neurodsp.utils.download import load_ndsp_data\n",
    "import numpy as np\n",
    "data = load_ndsp_data('D:\\\\jupyter_folder\\\\nurun_python_codes\\\\pre_Sb.npy')\n",
    "# Set sampling rate, and create a times vector for plotting\n",
    "fs = 250"
   ]
  },
  {
   "cell_type": "code",
   "execution_count": 4,
   "id": "8cde4a8d",
   "metadata": {},
   "outputs": [],
   "source": [
    "filtered_data= butter_bandpass_filter(data, 8, 13,fs, order=5)"
   ]
  },
  {
   "cell_type": "code",
   "execution_count": 22,
   "id": "fe37ac0d",
   "metadata": {},
   "outputs": [],
   "source": [
    "power_f4=np.log(np.mean(np.abs(filtered_data[3]**2)))\n",
    "power_f3=np.log(np.mean(np.abs(filtered_data[2]**2)))\n",
    "Amplitude_assymetry=power_f4-power_f3"
   ]
  },
  {
   "cell_type": "code",
   "execution_count": 6,
   "id": "c69e94c3",
   "metadata": {},
   "outputs": [],
   "source": [
    "\n",
    "#all\n",
    "Amplitude_assymetry=np.zeros((21,21))\n",
    "for jj in range (0,20):\n",
    "    for j in range (0,20):\n",
    "        ch_m=filtered_data[jj,:]\n",
    "        ch_n=filtered_data[j,:] \n",
    "        power_f=np.log(np.mean(np.abs(ch_m**2)))\n",
    "        power_ff=np.log(np.mean(np.abs(ch_n**2)))\n",
    "        Amplitude_assymetry[jj,j]=power_f-power_ff"
   ]
  },
  {
   "cell_type": "code",
   "execution_count": 10,
   "id": "9a84b8f0",
   "metadata": {},
   "outputs": [
    {
     "name": "stdout",
     "output_type": "stream",
     "text": [
      "0.0\n"
     ]
    }
   ],
   "source": [
    "print(Amplitude_assymetry[2,2])"
   ]
  },
  {
   "cell_type": "code",
   "execution_count": null,
   "id": "06563779",
   "metadata": {},
   "outputs": [],
   "source": []
  },
  {
   "cell_type": "code",
   "execution_count": null,
   "id": "c6fff454",
   "metadata": {},
   "outputs": [],
   "source": []
  }
 ],
 "metadata": {
  "kernelspec": {
   "display_name": "Python 3",
   "language": "python",
   "name": "python3"
  },
  "language_info": {
   "codemirror_mode": {
    "name": "ipython",
    "version": 3
   },
   "file_extension": ".py",
   "mimetype": "text/x-python",
   "name": "python",
   "nbconvert_exporter": "python",
   "pygments_lexer": "ipython3",
   "version": "3.8.8"
  }
 },
 "nbformat": 4,
 "nbformat_minor": 5
}
