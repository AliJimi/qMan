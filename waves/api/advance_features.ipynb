{
 "cells": [
  {
   "cell_type": "code",
   "execution_count": null,
   "id": "7bbda571",
   "metadata": {},
   "outputs": [],
   "source": [
    "##FirstDifference\n",
    "def jFirstDifference(X,~):\n",
    "T = length(X);\n",
    "Y = 0;\n",
    "for t = 1 : T - 1\n",
    "  Y = Y + abs(X(t+1) - X(t));\n",
    "end\n",
    "FD = (1 / (T - 1)) * Y;\n",
    "return FD"
   ]
  },
  {
   "cell_type": "code",
   "execution_count": null,
   "id": "6ee3bc4d",
   "metadata": {},
   "outputs": [],
   "source": [
    "#HjorthActivity\n",
    "def jHjorthActivity(X,~): \n",
    "sd = std(X); \n",
    "HA = sd ^ 2;\n",
    "return HA"
   ]
  },
  {
   "cell_type": "code",
   "execution_count": null,
   "id": "d0d215a1",
   "metadata": {},
   "outputs": [],
   "source": [
    "#HjorthComplexity\n",
    "def jHjorthComplexity(X,~):\n",
    "% First & second derivative\n",
    "x0  = X(:);\n",
    "x1  = diff([0; x0]);\n",
    "x2  = diff([0; x1]);\n",
    "% Standard deviation of first & second derivative \n",
    "sd0 = std(x0);\n",
    "sd1 = std(x1);\n",
    "sd2 = std(x2); \n",
    "% Complexity\n",
    "HC  = (sd2 / sd1) / (sd1 / sd0);\n",
    "return HC"
   ]
  },
  {
   "cell_type": "code",
   "execution_count": null,
   "id": "71f224b9",
   "metadata": {},
   "outputs": [],
   "source": [
    "#HjorthMobility\n",
    "def jHjorthMobility(X,~)\n",
    "% First derivative\n",
    "x0  = X(:);\n",
    "x1  = diff([0; x0]); \n",
    "% Standard deviation \n",
    "sd0 = std(x0); \n",
    "sd1 = std(x1);\n",
    "HM  = sd1 / sd0;\n",
    "return HM"
   ]
  },
  {
   "cell_type": "code",
   "execution_count": null,
   "id": "72c500e1",
   "metadata": {},
   "outputs": [],
   "source": [
    "#Kurtosis\n",
    "def KURT = jKurtosis(X,~)\n",
    "% Kurtosis \n",
    "KURT = kurtosis(X);\n",
    "return HM"
   ]
  },
  {
   "cell_type": "code",
   "execution_count": null,
   "id": "e2797a44",
   "metadata": {},
   "outputs": [],
   "source": [
    "#LogEnergyEntropy\n",
    "def LogEn = jLogEnergyEntropy(X,~)\n",
    "% Entropy \n",
    "LogEn = sum(log(X .^ 2)); \n",
    "return HM"
   ]
  },
  {
   "cell_type": "code",
   "execution_count": null,
   "id": "2d2a05f2",
   "metadata": {},
   "outputs": [],
   "source": [
    "#LogRootSumOfSequentialVariation\n",
    "def jLogRootSumOfSequentialVariation(X,~)\n",
    "N = length(X); \n",
    "Y = zeros(1, N-1);\n",
    "for i = 2:N\n",
    "  Y(i-1) = (X(i) - X(i-1)) ^ 2;\n",
    "end\n",
    "LRSSV = log10(sqrt(sum(Y)));\n",
    "return LRSSV"
   ]
  },
  {
   "cell_type": "code",
   "execution_count": null,
   "id": "258cd6ce",
   "metadata": {},
   "outputs": [],
   "source": [
    "#MeanCurveLength\n",
    "def jMeanCurveLength(X,~)\n",
    "N = length(X); \n",
    "Y = 0;\n",
    "for m = 2:N\n",
    "  Y = Y + abs(X(m) - X(m-1));\n",
    "end\n",
    "MCL = (1 / N) * Y;\n",
    "return MCL"
   ]
  },
  {
   "cell_type": "code",
   "execution_count": null,
   "id": "177c4f8d",
   "metadata": {},
   "outputs": [],
   "source": []
  },
  {
   "cell_type": "code",
   "execution_count": null,
   "id": "2f7c2b59",
   "metadata": {},
   "outputs": [],
   "source": []
  }
 ],
 "metadata": {
  "kernelspec": {
   "display_name": "Python 3",
   "language": "python",
   "name": "python3"
  },
  "language_info": {
   "codemirror_mode": {
    "name": "ipython",
    "version": 3
   },
   "file_extension": ".py",
   "mimetype": "text/x-python",
   "name": "python",
   "nbconvert_exporter": "python",
   "pygments_lexer": "ipython3",
   "version": "3.8.8"
  }
 },
 "nbformat": 4,
 "nbformat_minor": 5
}
