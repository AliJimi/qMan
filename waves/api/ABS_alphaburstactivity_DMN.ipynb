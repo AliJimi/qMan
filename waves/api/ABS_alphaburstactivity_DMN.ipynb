{
 "cells": [
  {
   "cell_type": "code",
   "execution_count": 1,
   "id": "1a979dc6",
   "metadata": {},
   "outputs": [],
   "source": [
    "from neurodsp.burst import detect_bursts_dual_threshold, compute_burst_stats\n",
    "import numpy as np\n",
    "# Import simulation code for creating test data\n",
    "from neurodsp.sim import sim_combined\n",
    "from neurodsp.utils import set_random_seed, create_times\n",
    "\n",
    "# Import utilities for loading and plotting data\n",
    "from neurodsp.utils.download import load_ndsp_data\n",
    "from neurodsp.plts.time_series import plot_time_series, plot_bursts"
   ]
  },
  {
   "cell_type": "code",
   "execution_count": 122,
   "id": "5c2bdc08",
   "metadata": {},
   "outputs": [
    {
     "name": "stdout",
     "output_type": "stream",
     "text": [
      "{'n_bursts': 15, 'duration_mean': 0.7410666666666667, 'duration_std': 0.35269466807550254, 'percent_burst': 18.222950819672132, 'bursts_per_second': 0.2459016393442623}\n"
     ]
    }
   ],
   "source": [
    "sig = load_ndsp_data('D:\\\\jupyter_folder\\\\nurun_python_codes\\\\pre_Sb.npy')\n",
    "# Set sampling rate, and create a times vector for plotting\n",
    "fs = 250\n",
    "times = create_times(len(sig[1,:])/fs, fs)\n",
    "# Set the frequency range to look for bursts here is alpha\n",
    "f_range = (8, 13)\n",
    "# Detect bursts using the dual threshold algorithm\n",
    "subject=['a','b','c','d','e','f','g','h','i','j','k','m','n','o','p','q','r','s','t','u','w','x','y','z']\n",
    "for ii in [0,23]:\n",
    "    data_raw = np.load('D:\\\\jupyter_folder\\\\nurun_python_codes\\\\pre_S'+f'{subject[ii]}''.npy') \n",
    "    for ch_i in [0,20]:\n",
    "        bursting= detect_bursts_dual_threshold(data_raw[ch_i,:] , fs, (1,2), f_range)\n",
    "        burst_stats = compute_burst_stats(bursting, fs)\n",
    "#Returns\n",
    "#stats_dictdict\n",
    "#Contains the following keys:\n",
    "#n_bursts: the number of bursts\n",
    "#duration_mean: mean duration of bursts, in seconds\n",
    "#duration_std: standard deviation of burst durations, in seconds\n",
    "#percent_burst: percent time in bursts\n",
    "#burst_rate: bursts/sec\n",
    "#bursting amount is two value true and false \n",
    "#when a part of signal is bursting that is true\n",
    "#when it is not related to bursting is false\n",
    "        result = np.where(bursting == True)\n",
    "        dd=sig[ch_i,result]\n",
    "        time = create_times(len(dd[0,:])/fs, fs)\n",
    "        fourier_transform = np.fft.rfft(dd[0,:])\n",
    "        abs_fourier_transform = np.abs(fourier_transform)\n",
    "        power_spectrum = np.square(abs_fourier_transform)\n",
    "        ABS_power=np.mean(power_spectrum)"
   ]
  },
  {
   "cell_type": "code",
   "execution_count": null,
   "id": "ac70d97e",
   "metadata": {},
   "outputs": [],
   "source": [
    "plot_bursts(times, sig[1,:], bursting, labels=['Data', 'Detected Burst'])"
   ]
  }
 ],
 "metadata": {
  "kernelspec": {
   "display_name": "Python 3",
   "language": "python",
   "name": "python3"
  },
  "language_info": {
   "codemirror_mode": {
    "name": "ipython",
    "version": 3
   },
   "file_extension": ".py",
   "mimetype": "text/x-python",
   "name": "python",
   "nbconvert_exporter": "python",
   "pygments_lexer": "ipython3",
   "version": "3.8.8"
  }
 },
 "nbformat": 4,
 "nbformat_minor": 5
}
