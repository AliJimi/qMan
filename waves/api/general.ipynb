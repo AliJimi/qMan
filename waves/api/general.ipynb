{
 "cells": [
  {
   "cell_type": "markdown",
   "id": "e543e0b9",
   "metadata": {},
   "source": [
    "# load and preprocessing the dataset"
   ]
  },
  {
   "cell_type": "code",
   "execution_count": 2,
   "id": "5519d505",
   "metadata": {},
   "outputs": [
    {
     "name": "stderr",
     "output_type": "stream",
     "text": [
      "C:\\ProgramData\\Anaconda3\\lib\\site-packages\\mne\\externals\\pymatreader\\utils.py:118: UserWarning: Complex objects (like classes) are not supported. They are imported on a best effort base but your mileage will vary.\n",
      "  warn('Complex objects (like classes) are not supported. '\n",
      "<ipython-input-2-734ddd8e2f47>:5: RuntimeWarning: Data will be preloaded. preload=False or a string preload is not supported when the data is stored in the .set file\n",
      "  raw= mne.io.read_raw_eeglab('D:\\WM_openneuro_dataset\\sub-064\\eeg\\sub-064_task-rest_eeg.set')\n"
     ]
    },
    {
     "name": "stdout",
     "output_type": "stream",
     "text": [
      "Used Annotations descriptions: ['boundary', 'eyes opened']\n",
      "Not setting metadata\n",
      "Not setting metadata\n",
      "2 matching events found\n",
      "Applying baseline correction (mode: mean)\n",
      "0 projection items activated\n",
      "Loading data for 2 events and 240001 original time points ...\n"
     ]
    },
    {
     "name": "stderr",
     "output_type": "stream",
     "text": [
      "<ipython-input-2-734ddd8e2f47>:5: RuntimeWarning: Limited 1 annotation(s) that were expanding outside the data range.\n",
      "  raw= mne.io.read_raw_eeglab('D:\\WM_openneuro_dataset\\sub-064\\eeg\\sub-064_task-rest_eeg.set')\n",
      "<ipython-input-2-734ddd8e2f47>:5: RuntimeWarning: The data contains 'boundary' events, indicating data discontinuities. Be cautious of filtering and epoching around these events.\n",
      "  raw= mne.io.read_raw_eeglab('D:\\WM_openneuro_dataset\\sub-064\\eeg\\sub-064_task-rest_eeg.set')\n"
     ]
    },
    {
     "name": "stdout",
     "output_type": "stream",
     "text": [
      "1 bad epochs dropped\n"
     ]
    }
   ],
   "source": [
    "import mne\n",
    "import pandas as pd\n",
    "import numpy as np\n",
    "#data = load_ndsp_data('D:\\\\jupyter_folder\\\\nurun_python_codes\\\\pre_Sb.npy')\n",
    "raw= mne.io.read_raw_eeglab('D:\\WM_openneuro_dataset\\sub-064\\eeg\\sub-064_task-rest_eeg.set')\n",
    "all_events, all_event_id = mne.events_from_annotations(raw)\n",
    "my_events= mne.pick_events(all_events)\n",
    "epochs = mne.Epochs(raw,my_events, tmin=0.0, tmax=240.0, baseline=(0, 0))\n",
    "data=epochs.to_data_frame()\n",
    "data.drop('time', axis=1, inplace=True)\n",
    "data.drop('condition', axis=1, inplace=True)\n",
    "data.drop('epoch', axis=1, inplace=True)\n",
    "data.drop([0],axis=0,inplace=True)\n",
    "######################################################################################################\n",
    "edata=data.to_numpy(dtype ='float32')\n",
    "clm,rw =data.shape\n",
    "#eeg=np.empty([rw,clm])dtype ='float32'\n",
    "eeg=np.reshape(edata,(rw,-1))\n",
    "######################################################################################################\n",
    "from meegkit.asr import ASR\n",
    "from meegkit.utils.matrix import sliding_window\n",
    "from scipy.signal import butter, lfilter\n",
    "\n",
    "\n",
    "def butter_bandpass(lowcut, highcut, fs, order=4):\n",
    "    nyq = 0.5 * fs\n",
    "    low = lowcut / nyq\n",
    "    high = highcut / nyq\n",
    "    b, a = butter(order, [low, high], btype='band')\n",
    "    return b, a\n",
    "def butter_bandpass_filter(data, lowcut, highcut, fs, order=4):\n",
    "    b, a = butter_bandpass(lowcut, highcut, fs, order=order)\n",
    "    y = lfilter(b, a, data)\n",
    "    return y\n",
    "\n",
    "\n",
    "def apply_asr(raw, sfreq=1000, cutoff=2.5, blocksize=100, win_len=0.5,\n",
    "        win_overlap=0.66, max_dropout_fraction=0.1,\n",
    "        min_clean_fraction=0.25, name='asrfilter', method='euclid',\n",
    "        estimator='scm'):\n",
    "   \n",
    "    h, w = raw.shape\n",
    "    \n",
    "    # t = int(raw.shape[1] / sfreq)\n",
    "    asr = ASR(sfreq=sfreq, cutoff=cutoff, blocksize=blocksize, win_len=win_len,\n",
    "        win_overlap=win_overlap, max_dropout_fraction=max_dropout_fraction,\n",
    "        min_clean_fraction=min_clean_fraction, name=name, method=method,\n",
    "        estimator=estimator)\n",
    "        \n",
    "        # method='euclid'\n",
    "    # train_idx = np.arange(0 * sfreq, t * sfreq, dtype=int)\n",
    "    _, sample_mask = asr.fit(raw)\n",
    "    \n",
    "    # Apply filter using sliding (non-overlapping) windows\n",
    "    X = sliding_window(raw, window=int(sfreq), step=int(sfreq))\n",
    "    Y = np.zeros_like(X)\n",
    "    for i in range(X.shape[1]):\n",
    "        Y[:, i, :] = asr.transform(X[:, i, :])\n",
    "    \n",
    "    raw = X.reshape(h, -1)  # reshape to (n_chans, n_times)\n",
    "    clean = Y.reshape(h, -1)\n",
    "    return raw, clean\n",
    "\n",
    "import pyedflib\n",
    "\n",
    "filter_signal = butter_bandpass_filter(eeg, 0.5, 30, 1000)\n",
    "signal, filter_asr_signal = apply_asr(filter_signal)\n",
    "#np.save('s64_denoise_resting_state', filter_asr_signal)"
   ]
  },
  {
   "cell_type": "markdown",
   "id": "a7382f8e",
   "metadata": {},
   "source": [
    "# absolout and relative band power"
   ]
  },
  {
   "cell_type": "code",
   "execution_count": 3,
   "id": "4314b4fa",
   "metadata": {},
   "outputs": [
    {
     "name": "stderr",
     "output_type": "stream",
     "text": [
      "<ipython-input-3-05857fdf4620>:20: RuntimeWarning: Could not properly use low_bias, keeping lowest-bias taper\n",
      "  psd, freqs = psd_array_multitaper(data, sf, adaptive=True,\n",
      "<ipython-input-3-05857fdf4620>:20: RuntimeWarning: Not adaptively combining the spectral estimators due to a low number of tapers (1 < 3).\n",
      "  psd, freqs = psd_array_multitaper(data, sf, adaptive=True,\n",
      "<ipython-input-3-05857fdf4620>:20: RuntimeWarning: Could not properly use low_bias, keeping lowest-bias taper\n",
      "  psd, freqs = psd_array_multitaper(data, sf, adaptive=True,\n",
      "<ipython-input-3-05857fdf4620>:20: RuntimeWarning: Not adaptively combining the spectral estimators due to a low number of tapers (1 < 3).\n",
      "  psd, freqs = psd_array_multitaper(data, sf, adaptive=True,\n"
     ]
    },
    {
     "name": "stdout",
     "output_type": "stream",
     "text": [
      "Absolute delta power: 78.799\n",
      "Relative delta power: 0.384\n"
     ]
    },
    {
     "name": "stderr",
     "output_type": "stream",
     "text": [
      "<ipython-input-3-05857fdf4620>:20: RuntimeWarning: Could not properly use low_bias, keeping lowest-bias taper\n",
      "  psd, freqs = psd_array_multitaper(data, sf, adaptive=True,\n",
      "<ipython-input-3-05857fdf4620>:20: RuntimeWarning: Not adaptively combining the spectral estimators due to a low number of tapers (1 < 3).\n",
      "  psd, freqs = psd_array_multitaper(data, sf, adaptive=True,\n"
     ]
    },
    {
     "name": "stdout",
     "output_type": "stream",
     "text": [
      "Delta/beta ratio (absolute): 1.390\n"
     ]
    },
    {
     "name": "stderr",
     "output_type": "stream",
     "text": [
      "<ipython-input-3-05857fdf4620>:20: RuntimeWarning: Could not properly use low_bias, keeping lowest-bias taper\n",
      "  psd, freqs = psd_array_multitaper(data, sf, adaptive=True,\n",
      "<ipython-input-3-05857fdf4620>:20: RuntimeWarning: Not adaptively combining the spectral estimators due to a low number of tapers (1 < 3).\n",
      "  psd, freqs = psd_array_multitaper(data, sf, adaptive=True,\n"
     ]
    }
   ],
   "source": [
    "def bandpower(data, sf, band, method='welch', window_sec=None, relative=False):\n",
    "   \n",
    "    from scipy.signal import welch\n",
    "    from scipy.integrate import simps\n",
    "    from mne.time_frequency import psd_array_multitaper\n",
    "\n",
    "    band = np.asarray(band)\n",
    "    low, high = band\n",
    "\n",
    "    # Compute the modified periodogram (Welch)\n",
    "    if method == 'welch':\n",
    "        if window_sec is not None:\n",
    "            nperseg = window_sec * sf\n",
    "        else:\n",
    "            nperseg = (2 / low) * sf\n",
    "\n",
    "        freqs, psd = welch(data, sf, nperseg=nperseg)\n",
    "\n",
    "    elif method == 'multitaper':\n",
    "        psd, freqs = psd_array_multitaper(data, sf, adaptive=True,\n",
    "                                          normalization='full', verbose=0)\n",
    "\n",
    "    # Frequency resolution\n",
    "    freq_res = freqs[1] - freqs[0]\n",
    "\n",
    "    # Find index of band in frequency vector\n",
    "    idx_band = np.logical_and(freqs >= low, freqs <= high)\n",
    "\n",
    "    # Integral approximation of the spectrum using parabola (Simpson's rule)\n",
    "    bp = simps(psd[idx_band], dx=freq_res)\n",
    "\n",
    "    if relative:\n",
    "        bp /= simps(psd, dx=freq_res)\n",
    "    return bp\n",
    "fs=1000\n",
    "from neurodsp.utils.download import load_ndsp_data\n",
    "# Multitaper delta power\n",
    "bp = bandpower(filter_asr_signal[1,:], fs, [0.5, 4], 'multitaper')\n",
    "bp_rel = bandpower(filter_asr_signal[1,:], fs, [0.5, 4], 'multitaper', relative=True)\n",
    "print('Absolute delta power: %.3f' % bp)\n",
    "print('Relative delta power: %.3f' % bp_rel)\n",
    "\n",
    "# Delta-beta ratio\n",
    "# One advantage of the multitaper is that we don't need to define a window length.\n",
    "db = bandpower(filter_asr_signal[1,:], fs, [0.5, 4], 'multitaper') / bandpower(filter_asr_signal[1,:], fs, [12, 30], 'multitaper')\n",
    "print('Delta/beta ratio (absolute): %.3f' % db)"
   ]
  },
  {
   "cell_type": "markdown",
   "id": "6b71e32e",
   "metadata": {},
   "source": [
    "# amplitude asymmetry"
   ]
  },
  {
   "cell_type": "code",
   "execution_count": 3,
   "id": "602cf9fe",
   "metadata": {},
   "outputs": [],
   "source": [
    "Amplitude_assymetry=np.zeros((21,21))\n",
    "for jj in range (0,20):\n",
    "    for j in range (0,20):\n",
    "        ch_m=filter_asr_signal[jj,:]\n",
    "        ch_n=filter_asr_signal[j,:] \n",
    "        power_f=np.log(np.mean(np.abs(ch_m**2)))\n",
    "        power_ff=np.log(np.mean(np.abs(ch_n**2)))\n",
    "        Amplitude_assymetry[jj,j]=power_f-power_ff"
   ]
  },
  {
   "cell_type": "markdown",
   "id": "872d1ef0",
   "metadata": {},
   "source": [
    "# coherence"
   ]
  },
  {
   "cell_type": "code",
   "execution_count": 6,
   "id": "d8aef16c",
   "metadata": {},
   "outputs": [],
   "source": [
    "import scipy.io\n",
    "import scipy.signal as signal\n",
    "coherence1=np.zeros((21,21))\n",
    "fs=1000\n",
    "for jj in range (0,20):\n",
    "    for j in range (0,20):\n",
    "        ch_m=filter_asr_signal[jj,:]\n",
    "        ch_n=filter_asr_signal[j,:] \n",
    "        power_f=np.log(np.mean(np.abs(ch_m**2)))\n",
    "        power_ff=np.log(np.mean(np.abs(ch_n**2)))\n",
    "        cx=signal.coherence(ch_m, ch_n, fs, window='hann', nperseg=256, noverlap=None, nfft=None, detrend='constant', axis=-1)"
   ]
  },
  {
   "cell_type": "code",
   "execution_count": 23,
   "id": "f130a69d",
   "metadata": {},
   "outputs": [],
   "source": [
    "gg,cx=signal.coherence(filter_asr_signal[1,:], filter_asr_signal[2,:], fs, window='hann', noverlap=None, nfft=None, detrend='constant', axis=-1)"
   ]
  },
  {
   "cell_type": "code",
   "execution_count": 25,
   "id": "165ca3f5",
   "metadata": {},
   "outputs": [
    {
     "name": "stdout",
     "output_type": "stream",
     "text": [
      "(129,)\n"
     ]
    }
   ],
   "source": [
    "print(cx.shape)"
   ]
  },
  {
   "cell_type": "markdown",
   "id": "5c8b8ea9",
   "metadata": {},
   "source": [
    "# phase lag"
   ]
  },
  {
   "cell_type": "code",
   "execution_count": 27,
   "id": "2ad59be1",
   "metadata": {},
   "outputs": [],
   "source": [
    "#Phase Lag\n",
    "from scipy.signal import hilbert\n",
    "phase_diff=np.zeros((21,21))\n",
    "for jj in range (0,20):\n",
    "    for j in range (0,20):\n",
    "        ch_m=filter_asr_signal[jj,:]\n",
    "        ch_n=filter_asr_signal[j,:] \n",
    "        x1h = hilbert(ch_m)\n",
    "        x2h = hilbert(ch_n)\n",
    "        c = np.inner( x1h, np.conj(x2h) ) / np.sqrt( np.inner(x1h,np.conj(x1h)) * np.inner(x2h,np.conj(x2h)) )\n",
    "        phase_diff[jj,j]= np.angle(c)"
   ]
  },
  {
   "cell_type": "markdown",
   "id": "428b07ae",
   "metadata": {},
   "source": [
    "# DFA"
   ]
  },
  {
   "cell_type": "code",
   "execution_count": 31,
   "id": "b9217ee8",
   "metadata": {},
   "outputs": [
    {
     "name": "stdout",
     "output_type": "stream",
     "text": [
      "[0.78306462 0.85904042 0.67413346 0.73047038 0.78383044 0.79070018\n",
      " 0.59716397 0.79159262 0.57323082 0.62729282 0.56351986 0.59934\n",
      " 0.49160154 0.44593767 0.41406926 0.55034509 0.35557157 0.36822528\n",
      " 0.34480842 0.33460472 0.42244151]\n"
     ]
    }
   ],
   "source": [
    "print(dfas)"
   ]
  },
  {
   "cell_type": "code",
   "execution_count": null,
   "id": "53b64bbb",
   "metadata": {},
   "outputs": [],
   "source": []
  }
 ],
 "metadata": {
  "kernelspec": {
   "display_name": "Python 3",
   "language": "python",
   "name": "python3"
  },
  "language_info": {
   "codemirror_mode": {
    "name": "ipython",
    "version": 3
   },
   "file_extension": ".py",
   "mimetype": "text/x-python",
   "name": "python",
   "nbconvert_exporter": "python",
   "pygments_lexer": "ipython3",
   "version": "3.8.8"
  }
 },
 "nbformat": 4,
 "nbformat_minor": 5
}
