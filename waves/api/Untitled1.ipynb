{
 "cells": [
  {
   "cell_type": "code",
   "execution_count": 1,
   "id": "d09f1bfd",
   "metadata": {},
   "outputs": [],
   "source": [
    "import scipy.io\n",
    "import scipy.signal as signal\n",
    "from scipy.signal import butter, lfilter\n",
    "import numpy as np\n",
    "import pandas as pd\n",
    "import mne\n",
    "from mne.preprocessing import ICA\n",
    "from mne.channels import make_standard_montage\n",
    "%matplotlib qt\n",
    "%gui qt\n",
    "from time import time\n",
    "from matplotlib import pyplot as plt\n",
    "from mne.preprocessing import find_eog_events, regress_artifact\n",
    "from mne.datasets import sample\n",
    "from mne.viz import plot_raw\n",
    "from mne.preprocessing import corrmap\n",
    "from mne.viz import plot_raw\n",
    "0\n",
    "from meegkit.asr import ASR\n",
    "from meegkit.utils.matrix import sliding_window\n",
    "from scipy.signal import butter, lfilter\n"
   ]
  },
  {
   "cell_type": "code",
   "execution_count": 2,
   "id": "044c4872",
   "metadata": {},
   "outputs": [],
   "source": [
    "\n",
    "def butter_bandpass(lowcut, highcut, fs, order=5):\n",
    "    nyq = 0.5 * fs\n",
    "    low = lowcut / nyq\n",
    "    high = highcut / nyq\n",
    "    b, a = butter(order, [low, high], btype='band')\n",
    "    return b, a\n",
    "def butter_bandpass_filter(data, lowcut, highcut, fs, order=5):\n",
    "    b, a = butter_bandpass(lowcut, highcut, fs, order=order)\n",
    "    y = lfilter(b, a, data)\n",
    "    return y\n",
    "\n",
    "\n",
    "def apply_asr(raw, sfreq=250, cutoff=2.5, blocksize=100, win_len=0.5,\n",
    "        win_overlap=0.66, max_dropout_fraction=0.1,\n",
    "        min_clean_fraction=0.25, name='asrfilter', method='euclid',\n",
    "        estimator='scm'):\n",
    "   \n",
    "    h, w = raw.shape\n",
    "    \n",
    "    # t = int(raw.shape[1] / sfreq)\n",
    "    asr = ASR(sfreq=sfreq, cutoff=cutoff, blocksize=blocksize, win_len=win_len,\n",
    "        win_overlap=win_overlap, max_dropout_fraction=max_dropout_fraction,\n",
    "        min_clean_fraction=min_clean_fraction, name=name, method=method,\n",
    "        estimator=estimator)\n",
    "        \n",
    "        # method='euclid'\n",
    "    # train_idx = np.arange(0 * sfreq, t * sfreq, dtype=int)\n",
    "    _, sample_mask = asr.fit(raw)\n",
    "    \n",
    "    # Apply filter using sliding (non-overlapping) windows\n",
    "    X = sliding_window(raw, window=int(sfreq), step=int(sfreq))\n",
    "    Y = np.zeros_like(X)\n",
    "    for i in range(X.shape[1]):\n",
    "        Y[:, i, :] = asr.transform(X[:, i, :])\n",
    "    \n",
    "    raw = X.reshape(h, -1)  # reshape to (n_chans, n_times)\n",
    "    clean = Y.reshape(h, -1)\n",
    "    return raw, clean\n",
    "\n",
    "import pyedflib\n",
    "\n"
   ]
  },
  {
   "cell_type": "code",
   "execution_count": 7,
   "id": "23908979",
   "metadata": {},
   "outputs": [
    {
     "name": "stderr",
     "output_type": "stream",
     "text": [
      "<ipython-input-2-3027278e30ec>:34: ComplexWarning: Casting complex values to real discards the imaginary part\n",
      "  Y[:, i, :] = asr.transform(X[:, i, :])\n"
     ]
    }
   ],
   "source": [
    "hh=np.array([1,2,3,5,6,7,8,9,10,11,12,13,14,15,16,17,18,19,20,21,22,23,24,25,26,30,31,32,33,36,37,38,39,\n",
    "            40,42,43,44,45])\n",
    "for ii in range(len(hh)):\n",
    "    \n",
    "    data=np.loadtxt('eeg_data_'+str(hh[ii])+'.txt')\n",
    "    filter_signal= butter_bandpass_filter(data, 1, 49, 250)\n",
    "    filter_asr_signal3 = apply_asr(filter_signal.T, sfreq=250)\n",
    "    np.save('eeg_data_'+str(hh[ii])+'clean',filter_asr_signal3)"
   ]
  },
  {
   "cell_type": "code",
   "execution_count": null,
   "id": "fb931609",
   "metadata": {},
   "outputs": [],
   "source": [
    "data_raw = scipy.io.loadmat('E:\\\\software\\\\EEG+Neuroguide report\\\\31_khanzade\\\\khanzade.mat')\n",
    "f=data_raw['EEG_Data']\n",
    "g=np.array((f))\n",
    "filter_signal= butter_bandpass_filter(g, 4, 50, 250)\n",
    "signal3, filter_asr_signal3 = apply_asr(filter_signal, sfreq=250)\n",
    "from tempfile import TemporaryFile\n",
    "pre_khanzade = TemporaryFile()\n",
    "np.save(pre_khanzade, filter_asr_signal3)"
   ]
  },
  {
   "cell_type": "code",
   "execution_count": 4,
   "id": "2bdfae7f",
   "metadata": {},
   "outputs": [
    {
     "data": {
      "text/plain": [
       "(15360, 21)"
      ]
     },
     "execution_count": 4,
     "metadata": {},
     "output_type": "execute_result"
    }
   ],
   "source": [
    "filter_signal.shape"
   ]
  },
  {
   "cell_type": "code",
   "execution_count": 5,
   "id": "9c0cdd80",
   "metadata": {},
   "outputs": [
    {
     "data": {
      "text/plain": [
       "(15360, 21)"
      ]
     },
     "execution_count": 5,
     "metadata": {},
     "output_type": "execute_result"
    }
   ],
   "source": [
    "data.shape"
   ]
  },
  {
   "cell_type": "code",
   "execution_count": 6,
   "id": "5ccfe727",
   "metadata": {},
   "outputs": [
    {
     "ename": "NameError",
     "evalue": "name 'filter_asr_signal3' is not defined",
     "output_type": "error",
     "traceback": [
      "\u001b[1;31m---------------------------------------------------------------------------\u001b[0m",
      "\u001b[1;31mNameError\u001b[0m                                 Traceback (most recent call last)",
      "\u001b[1;32m<ipython-input-6-6d29eecc2b55>\u001b[0m in \u001b[0;36m<module>\u001b[1;34m\u001b[0m\n\u001b[1;32m----> 1\u001b[1;33m \u001b[0mfilter_asr_signal3\u001b[0m\u001b[1;33m.\u001b[0m\u001b[0mshape\u001b[0m\u001b[1;33m\u001b[0m\u001b[1;33m\u001b[0m\u001b[0m\n\u001b[0m",
      "\u001b[1;31mNameError\u001b[0m: name 'filter_asr_signal3' is not defined"
     ]
    }
   ],
   "source": [
    "filter_asr_signal3.shape"
   ]
  },
  {
   "cell_type": "code",
   "execution_count": 9,
   "id": "2233fa5a",
   "metadata": {},
   "outputs": [
    {
     "ename": "AttributeError",
     "evalue": "'tuple' object has no attribute 'shape'",
     "output_type": "error",
     "traceback": [
      "\u001b[1;31m---------------------------------------------------------------------------\u001b[0m",
      "\u001b[1;31mAttributeError\u001b[0m                            Traceback (most recent call last)",
      "\u001b[1;32m<ipython-input-9-6d29eecc2b55>\u001b[0m in \u001b[0;36m<module>\u001b[1;34m\u001b[0m\n\u001b[1;32m----> 1\u001b[1;33m \u001b[0mfilter_asr_signal3\u001b[0m\u001b[1;33m.\u001b[0m\u001b[0mshape\u001b[0m\u001b[1;33m\u001b[0m\u001b[1;33m\u001b[0m\u001b[0m\n\u001b[0m",
      "\u001b[1;31mAttributeError\u001b[0m: 'tuple' object has no attribute 'shape'"
     ]
    }
   ],
   "source": [
    "filter_asr_signal3.shape"
   ]
  },
  {
   "cell_type": "code",
   "execution_count": 10,
   "id": "25ab6cd7",
   "metadata": {},
   "outputs": [
    {
     "data": {
      "text/plain": [
       "37"
      ]
     },
     "execution_count": 10,
     "metadata": {},
     "output_type": "execute_result"
    }
   ],
   "source": [
    "ii"
   ]
  },
  {
   "cell_type": "code",
   "execution_count": null,
   "id": "414974d3",
   "metadata": {},
   "outputs": [],
   "source": []
  }
 ],
 "metadata": {
  "kernelspec": {
   "display_name": "Python 3",
   "language": "python",
   "name": "python3"
  },
  "language_info": {
   "codemirror_mode": {
    "name": "ipython",
    "version": 3
   },
   "file_extension": ".py",
   "mimetype": "text/x-python",
   "name": "python",
   "nbconvert_exporter": "python",
   "pygments_lexer": "ipython3",
   "version": "3.8.8"
  }
 },
 "nbformat": 4,
 "nbformat_minor": 5
}
