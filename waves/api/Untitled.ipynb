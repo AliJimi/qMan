{
 "cells": [
  {
   "cell_type": "code",
   "execution_count": 2,
   "id": "0922dcce",
   "metadata": {},
   "outputs": [
    {
     "ename": "ModuleNotFoundError",
     "evalue": "No module named 'meegkit'",
     "output_type": "error",
     "traceback": [
      "\u001b[1;31m---------------------------------------------------------------------------\u001b[0m",
      "\u001b[1;31mModuleNotFoundError\u001b[0m                       Traceback (most recent call last)",
      "Input \u001b[1;32mIn [2]\u001b[0m, in \u001b[0;36m<cell line: 8>\u001b[1;34m()\u001b[0m\n\u001b[0;32m      6\u001b[0m \u001b[38;5;28;01mfrom\u001b[39;00m \u001b[38;5;21;01mscipy\u001b[39;00m\u001b[38;5;21;01m.\u001b[39;00m\u001b[38;5;21;01msignal\u001b[39;00m \u001b[38;5;28;01mimport\u001b[39;00m hilbert,butter, lfilter,welch\n\u001b[0;32m      7\u001b[0m \u001b[38;5;28;01mfrom\u001b[39;00m \u001b[38;5;21;01mscipy\u001b[39;00m\u001b[38;5;21;01m.\u001b[39;00m\u001b[38;5;21;01mintegrate\u001b[39;00m \u001b[38;5;28;01mimport\u001b[39;00m simps\n\u001b[1;32m----> 8\u001b[0m \u001b[38;5;28;01mfrom\u001b[39;00m \u001b[38;5;21;01mmeegkit\u001b[39;00m\u001b[38;5;21;01m.\u001b[39;00m\u001b[38;5;21;01masr\u001b[39;00m \u001b[38;5;28;01mimport\u001b[39;00m ASR\n\u001b[0;32m      9\u001b[0m \u001b[38;5;28;01mfrom\u001b[39;00m \u001b[38;5;21;01mmeegkit\u001b[39;00m\u001b[38;5;21;01m.\u001b[39;00m\u001b[38;5;21;01mutils\u001b[39;00m\u001b[38;5;21;01m.\u001b[39;00m\u001b[38;5;21;01mmatrix\u001b[39;00m \u001b[38;5;28;01mimport\u001b[39;00m sliding_window\n\u001b[0;32m     10\u001b[0m \u001b[38;5;28;01mfrom\u001b[39;00m \u001b[38;5;21;01mmne\u001b[39;00m\u001b[38;5;21;01m.\u001b[39;00m\u001b[38;5;21;01mtime_frequency\u001b[39;00m \u001b[38;5;28;01mimport\u001b[39;00m psd_array_multitaper            \n",
      "\u001b[1;31mModuleNotFoundError\u001b[0m: No module named 'meegkit'"
     ]
    }
   ],
   "source": [
    "import mne\n",
    "import pandas as pd\n",
    "import numpy as np\n",
    "import scipy.io\n",
    "import scipy.signal as ss\n",
    "from scipy.signal import hilbert,butter, lfilter,welch\n",
    "from scipy.integrate import simps\n",
    "from meegkit.asr import ASR\n",
    "from meegkit.utils.matrix import sliding_window\n",
    "from mne.time_frequency import psd_array_multitaper            \n",
    "from neurodsp.utils.download import load_ndsp_data\n",
    "sampling_rate = 250\n",
    "\n",
    "def butterBandpass(data, lower_limit_filter, upper_limit_filter, sampling_rate, order=4):\n",
    "    \"\"\"\n",
    "    This func is for filtering signal between lower and upper bounds\n",
    "    the methods are used from scipy.signal lib\n",
    "    \"\"\"\n",
    "    nyquist_coeff = 0.5 * sampling_rate\n",
    "    low_frequences_filter = lower_limit_filter / nyquist_coeff\n",
    "    high_frequences_filter = upper_limit_filter / nyquist_coeff\n",
    "    numerator_filter, denominator_filter = butter(order, \n",
    "                                                  [low_frequences_filter, high_frequences_filter],\n",
    "                                                  btype='band')\n",
    "    # based on numinator and denominator the filter signal ...                                            )\n",
    "    filtered_signal = lfilter(numerator_filter, denominator_filter, data)\n",
    "    return filtered_signal\n",
    "\n",
    "def applyArtifactSubspaceReconstruction(raw, sfreq=sampling_rate, cutoff=2.5, \n",
    "                                        blocksize=100, win_len=0.5,\n",
    "                                        win_overlap=0.66, max_dropout_fraction=0.1,\n",
    "                                        min_clean_fraction=0.25, name='asrfilter', method='euclid',\n",
    "                                        estimator='scm'):\n",
    "    \"\"\"\n",
    "    Goal: this function removes artifact specially those related to EOG noises\n",
    "    \"\"\"\n",
    "    h, w = raw.shape\n",
    "    \n",
    "    # t = int(raw.shape[1] / sfreq)\n",
    "    # take asr ....\n",
    "    asr = ASR(sfreq=sfreq, cutoff=cutoff, blocksize=blocksize, win_len=win_len,\n",
    "        win_overlap=win_overlap, max_dropout_fraction=max_dropout_fraction,\n",
    "        min_clean_fraction=min_clean_fraction, name=name, method=method,\n",
    "        estimator=estimator)   \n",
    "    # method='euclid'\n",
    "    # train_idx = np.arange(0 * sfreq, t * sfreq, dtype=int)\n",
    "    \n",
    "    # short description ....\n",
    "    _, sample_mask = asr.fit(raw)\n",
    "    \n",
    "    # Apply filter using sliding (non-overlapping) windows\n",
    "    # name X, Y\n",
    "    # description\n",
    "    #sliding_window function converts our 2-D data(number of channels by number of recorded samples) dataset to a 3-D function(number of channels by time in second by sampling rate) \n",
    "    X = sliding_window(raw, window=int(sfreq), step=int(sfreq)) \n",
    "    Y = np.zeros_like(X)\n",
    "    for i in range(X.shape[1]):\n",
    "        Y[:, i, :] = asr.transform(X[:, i, :])\n",
    "   # reshape to (n_chans, n_times)\n",
    "    clean = Y.reshape(h, -1)\n",
    "    return clean"
   ]
  },
  {
   "cell_type": "code",
   "execution_count": 14,
   "id": "9c537dbc",
   "metadata": {},
   "outputs": [],
   "source": [
    "import numpy as np\n",
    "num_subjects=np.array([1,2,3,5,6,7,8,9,10,11,12,13,14,15,16,17,18,19,20,21,22,23,24,25,26,\n",
    "                       30,31,32,33,36,37,38,39,40,42,43,44,45])\n",
    "\n",
    "for ii in range(len(num_subjects)):\n",
    "    data=np.loadtxt('eeg_data_'+str(num_subjects[ii])+'.txt') as data:       \n",
    "    filter_signal = butterBandpass(data, 1, 49, 250)\n",
    "    filter_asr_signal = applyArtifactSubspaceReconstruction(filter_signal)\n",
    "    np.save('s'+str(hh[ii])+'_clean_nurun_recorded_dataset', filter_asr_signal)"
   ]
  }
 ],
 "metadata": {
  "kernelspec": {
   "display_name": "Python 3 (ipykernel)",
   "language": "python",
   "name": "python3"
  },
  "language_info": {
   "codemirror_mode": {
    "name": "ipython",
    "version": 3
   },
   "file_extension": ".py",
   "mimetype": "text/x-python",
   "name": "python",
   "nbconvert_exporter": "python",
   "pygments_lexer": "ipython3",
   "version": "3.10.4"
  }
 },
 "nbformat": 4,
 "nbformat_minor": 5
}
