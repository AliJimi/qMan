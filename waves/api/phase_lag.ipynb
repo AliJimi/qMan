{
 "cells": [
  {
   "cell_type": "code",
   "execution_count": 16,
   "id": "ee59f53f",
   "metadata": {},
   "outputs": [],
   "source": [
    "from neurodsp.utils.download import load_ndsp_data\n",
    "from scipy.signal import hilbert\n",
    "import numpy as np\n",
    "data = load_ndsp_data('D:\\\\jupyter_folder\\\\nurun_python_codes\\\\pre_Sb.npy')\n",
    "# Set sampling rate, and create a times vector for plotting\n",
    "fs = 250"
   ]
  },
  {
   "cell_type": "code",
   "execution_count": 17,
   "id": "81fa4527",
   "metadata": {},
   "outputs": [],
   "source": [
    "x1h = hilbert(data[1,:])\n",
    "x2h = hilbert(data[18,:])\n",
    "c = np.inner( x1h, np.conj(x2h) ) / np.sqrt( np.inner(x1h,np.conj(x1h)) * np.inner(x2h,np.conj(x2h)) )\n",
    "phase_diff = np.angle(c)"
   ]
  },
  {
   "cell_type": "code",
   "execution_count": 18,
   "id": "7102cfc3",
   "metadata": {},
   "outputs": [
    {
     "data": {
      "text/plain": [
       "1.6879230456575531"
      ]
     },
     "execution_count": 18,
     "metadata": {},
     "output_type": "execute_result"
    }
   ],
   "source": [
    "phase_diff "
   ]
  },
  {
   "cell_type": "code",
   "execution_count": null,
   "id": "12fff7b2",
   "metadata": {},
   "outputs": [],
   "source": []
  }
 ],
 "metadata": {
  "kernelspec": {
   "display_name": "Python 3",
   "language": "python",
   "name": "python3"
  },
  "language_info": {
   "codemirror_mode": {
    "name": "ipython",
    "version": 3
   },
   "file_extension": ".py",
   "mimetype": "text/x-python",
   "name": "python",
   "nbconvert_exporter": "python",
   "pygments_lexer": "ipython3",
   "version": "3.8.8"
  }
 },
 "nbformat": 4,
 "nbformat_minor": 5
}
