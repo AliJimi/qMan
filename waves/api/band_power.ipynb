{
 "cells": [
  {
   "cell_type": "code",
   "execution_count": null,
   "id": "f8da293d",
   "metadata": {},
   "outputs": [],
   "source": [
    "\"EEG correlates of working memory performance in females\"\n",
    "suppression of alpha1 activity and with the increase of the midline theta activity\n",
    "decrement of beta1 power\n",
    "Beta2 power increased\n",
    "At the level of individual differences, we found that the high\n",
    "performance (HP) group was characterized by higher alpha rhythm power. The HP group demonstrated task-related\n",
    "increment of theta power in the left anterior area and a gradual increase of theta power at midline area. In contrast,\n",
    "the low performance (LP) group exhibited a drop of theta power in the most challenging condition. HP group was\n",
    "also characterized by stronger desynchronization of beta1 rhythm over the left posterior area in the manipulation\n",
    "condition. In this condition, beta2 power increased in the HP group over anterior areas, but in the LP group over\n",
    "posterior areas.\n",
    " low beta band (~13–20 Hz)\n",
    "    beta2 (~20–30 Hz) \n",
    "    lower (13–20 Hz) and\n",
    "upper (25–30 Hz) beta\n",
    "\n",
    "\"the electrophysiological underpinnings of variation in verbal working memory capacity\"\n",
    "our data indicate a close relationship between frontal\n",
    "midline theta, central beta activity and the executive components of WM\n",
    "In contrast, alpha activity was not related to the individual differences\n",
    "\n",
    "\"Oscillatory brain activity and maintenance of verbal and visual working memory: A systematic review\"\n",
    "frontal midline theta enhanced \n",
    "Alpha asymmetry (left < right)\n",
    "alpha activity \n",
    "\n",
    "\"Temporally distinct oscillatory codes of retention and manipulation of verbal working memory\"\n",
    "alpha_beta_theta"
   ]
  },
  {
   "cell_type": "code",
   "execution_count": 3,
   "id": "9faf0a0a",
   "metadata": {},
   "outputs": [],
   "source": [
    "def bandpower(data, sf, band, method='welch', window_sec=None, relative=False):\n",
    "    \"\"\"Compute the average power of the signal x in a specific frequency band.\n",
    "\n",
    "    Requires MNE-Python >= 0.14.\n",
    "\n",
    "    Parameters\n",
    "    ----------\n",
    "    data : 1d-array\n",
    "      Input signal in the time-domain.\n",
    "    sf : float\n",
    "      Sampling frequency of the data.\n",
    "    band : list\n",
    "      Lower and upper frequencies of the band of interest.\n",
    "    method : string\n",
    "      Periodogram method: 'welch' or 'multitaper'\n",
    "    window_sec : float\n",
    "      Length of each window in seconds. Useful only if method == 'welch'.\n",
    "      If None, window_sec = (1 / min(band)) * 2.\n",
    "    relative : boolean\n",
    "      If True, return the relative power (= divided by the total power of the signal).\n",
    "      If False (default), return the absolute power.\n",
    "\n",
    "    Return\n",
    "    ------\n",
    "    bp : float\n",
    "      Absolute or relative band power.\n",
    "    \"\"\"\n",
    "    from scipy.signal import welch\n",
    "    from scipy.integrate import simps\n",
    "    from mne.time_frequency import psd_array_multitaper\n",
    "\n",
    "    band = np.asarray(band)\n",
    "    low, high = band\n",
    "\n",
    "    # Compute the modified periodogram (Welch)\n",
    "    if method == 'welch':\n",
    "        if window_sec is not None:\n",
    "            nperseg = window_sec * sf\n",
    "        else:\n",
    "            nperseg = (2 / low) * sf\n",
    "\n",
    "        freqs, psd = welch(data, sf, nperseg=nperseg)\n",
    "\n",
    "    elif method == 'multitaper':\n",
    "        psd, freqs = psd_array_multitaper(data, sf, adaptive=True,\n",
    "                                          normalization='full', verbose=0)\n",
    "\n",
    "    # Frequency resolution\n",
    "    freq_res = freqs[1] - freqs[0]\n",
    "\n",
    "    # Find index of band in frequency vector\n",
    "    idx_band = np.logical_and(freqs >= low, freqs <= high)\n",
    "\n",
    "    # Integral approximation of the spectrum using parabola (Simpson's rule)\n",
    "    bp = simps(psd[idx_band], dx=freq_res)\n",
    "\n",
    "    if relative:\n",
    "        bp /= simps(psd, dx=freq_res)\n",
    "    return bp"
   ]
  },
  {
   "cell_type": "code",
   "execution_count": 8,
   "id": "19f345cc",
   "metadata": {},
   "outputs": [],
   "source": [
    "from neurodsp.utils.download import load_ndsp_data\n",
    "import numpy as np\n",
    "data = load_ndsp_data('D:\\\\jupyter_folder\\\\nurun_python_codes\\\\pre_Sb.npy')\n",
    "# Set sampling rate, and create a times vector for plotting\n",
    "fs = 250"
   ]
  },
  {
   "cell_type": "code",
   "execution_count": 13,
   "id": "10bcf914",
   "metadata": {},
   "outputs": [
    {
     "name": "stdout",
     "output_type": "stream",
     "text": [
      "Absolute delta power: 1871.564\n",
      "Relative delta power: 0.033\n",
      "Delta/beta ratio (absolute): 0.194\n",
      "Delta/beta ratio (relative): 0.194\n"
     ]
    }
   ],
   "source": [
    "# Multitaper delta power\n",
    "bp = bandpower(data[1,:], fs, [0.5, 4], 'multitaper')\n",
    "bp_rel = bandpower(data[1,:], fs, [0.5, 4], 'multitaper', relative=True)\n",
    "print('Absolute delta power: %.3f' % bp)\n",
    "print('Relative delta power: %.3f' % bp_rel)\n",
    "\n",
    "# Delta-beta ratio\n",
    "# One advantage of the multitaper is that we don't need to define a window length.\n",
    "db = bandpower(data[1,:], fs, [0.5, 4], 'multitaper') / bandpower(data[1,:], fs, [12, 30], 'multitaper')\n",
    "print('Delta/beta ratio (absolute): %.3f' % db)"
   ]
  },
  {
   "cell_type": "code",
   "execution_count": 10,
   "id": "2527b111",
   "metadata": {},
   "outputs": [
    {
     "data": {
      "text/plain": [
       "(21, 38250)"
      ]
     },
     "execution_count": 10,
     "metadata": {},
     "output_type": "execute_result"
    }
   ],
   "source": [
    "data.shape\n"
   ]
  },
  {
   "cell_type": "code",
   "execution_count": null,
   "id": "91cebbf8",
   "metadata": {},
   "outputs": [],
   "source": []
  }
 ],
 "metadata": {
  "kernelspec": {
   "display_name": "Python 3",
   "language": "python",
   "name": "python3"
  },
  "language_info": {
   "codemirror_mode": {
    "name": "ipython",
    "version": 3
   },
   "file_extension": ".py",
   "mimetype": "text/x-python",
   "name": "python",
   "nbconvert_exporter": "python",
   "pygments_lexer": "ipython3",
   "version": "3.8.8"
  }
 },
 "nbformat": 4,
 "nbformat_minor": 5
}
