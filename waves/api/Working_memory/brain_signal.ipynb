{
 "cells": [
  {
   "cell_type": "code",
   "execution_count": 1,
   "id": "8ebb4c86",
   "metadata": {},
   "outputs": [],
   "source": [
    "import mne\n",
    "import numpy as np\n",
    "import scipy.io\n",
    "import scipy.signal as ss\n",
    "#import pyedflib\n",
    "from scipy.signal import hilbert,butter, lfilter,welch\n",
    "from scipy.integrate import simps\n",
    "from mne.time_frequency import psd_array_multitaper\n",
    "def myBandPower(data, sampling_rate, \n",
    "                frequency_band1,\n",
    "                method='welch', window_sec=None):\n",
    "    \n",
    "    frequency_band1 = np.asarray(frequency_band1)\n",
    "    \n",
    "    low_limitation1, high_limitation1 = frequency_band1\n",
    "   \n",
    "    # Compute the modified periodogram (Welch)\n",
    "    if method == 'welch':\n",
    "        if window_sec is not None:\n",
    "            num_of_sample_per_segment = window_sec * sampling_rate\n",
    "        else:\n",
    "            num_of_sample_per_segment = (2 / low_limitation) * sampling_rate\n",
    "        freqs, psd = welch(data, sampling_rate, nperseg=num_of_sample_per_segment)\n",
    "    elif method == 'multitaper':\n",
    "        psd, freqs = psd_array_multitaper(data, sampling_rate, adaptive=True,\n",
    "                                          normalization='full', verbose=0)\n",
    "    # Frequency resolution\n",
    "    freq_res = freqs[1] - freqs[0]\n",
    "\n",
    "    # Find index of band in frequency vector\n",
    "    idx_band1 = np.logical_and(freqs >= low_limitation1, freqs <= high_limitation1)\n",
    "    \n",
    "    # Integral approximation of the spectrum using parabola (Simpson's rule)\n",
    "    bp1 = simps(psd[idx_band1], dx=freq_res)       \n",
    "    return bp1"
   ]
  },
  {
   "cell_type": "code",
   "execution_count": 2,
   "id": "3c5235dd",
   "metadata": {},
   "outputs": [
    {
     "name": "stderr",
     "output_type": "stream",
     "text": [
      "C:\\Users\\Ramezani\\AppData\\Local\\Temp\\ipykernel_9624\\3905262193.py:25: RuntimeWarning: Iterative multi-taper PSD computation did not converge.\n",
      "  psd, freqs = psd_array_multitaper(data, sampling_rate, adaptive=True,\n",
      "C:\\Users\\Ramezani\\AppData\\Local\\Temp\\ipykernel_9624\\3905262193.py:25: RuntimeWarning: Iterative multi-taper PSD computation did not converge.\n",
      "  psd, freqs = psd_array_multitaper(data, sampling_rate, adaptive=True,\n",
      "C:\\Users\\Ramezani\\AppData\\Local\\Temp\\ipykernel_9624\\3905262193.py:25: RuntimeWarning: Iterative multi-taper PSD computation did not converge.\n",
      "  psd, freqs = psd_array_multitaper(data, sampling_rate, adaptive=True,\n",
      "C:\\Users\\Ramezani\\AppData\\Local\\Temp\\ipykernel_9624\\3905262193.py:25: RuntimeWarning: Iterative multi-taper PSD computation did not converge.\n",
      "  psd, freqs = psd_array_multitaper(data, sampling_rate, adaptive=True,\n",
      "C:\\Users\\Ramezani\\AppData\\Local\\Temp\\ipykernel_9624\\3905262193.py:25: RuntimeWarning: Iterative multi-taper PSD computation did not converge.\n",
      "  psd, freqs = psd_array_multitaper(data, sampling_rate, adaptive=True,\n",
      "C:\\Users\\Ramezani\\AppData\\Local\\Temp\\ipykernel_9624\\3905262193.py:25: RuntimeWarning: Iterative multi-taper PSD computation did not converge.\n",
      "  psd, freqs = psd_array_multitaper(data, sampling_rate, adaptive=True,\n",
      "C:\\Users\\Ramezani\\AppData\\Local\\Temp\\ipykernel_9624\\3905262193.py:25: RuntimeWarning: Iterative multi-taper PSD computation did not converge.\n",
      "  psd, freqs = psd_array_multitaper(data, sampling_rate, adaptive=True,\n"
     ]
    },
    {
     "ename": "KeyboardInterrupt",
     "evalue": "",
     "output_type": "error",
     "traceback": [
      "\u001b[1;31m---------------------------------------------------------------------------\u001b[0m",
      "\u001b[1;31mKeyboardInterrupt\u001b[0m                         Traceback (most recent call last)",
      "Input \u001b[1;32mIn [2]\u001b[0m, in \u001b[0;36m<cell line: 2>\u001b[1;34m()\u001b[0m\n\u001b[0;32m      4\u001b[0m power\u001b[38;5;241m=\u001b[39mnp\u001b[38;5;241m.\u001b[39mzeros((\u001b[38;5;241m63\u001b[39m,\u001b[38;5;241m28\u001b[39m))\n\u001b[0;32m      5\u001b[0m \u001b[38;5;28;01mfor\u001b[39;00m ii \u001b[38;5;129;01min\u001b[39;00m \u001b[38;5;28mrange\u001b[39m (\u001b[38;5;241m63\u001b[39m):\n\u001b[1;32m----> 6\u001b[0m     power[ii] \u001b[38;5;241m=\u001b[39m \u001b[43mmyBandPower\u001b[49m\u001b[43m(\u001b[49m\u001b[43mdata\u001b[49m\u001b[43m[\u001b[49m\u001b[43mii\u001b[49m\u001b[43m,\u001b[49m\u001b[43m:\u001b[49m\u001b[43m]\u001b[49m\u001b[43m,\u001b[49m\u001b[43m \u001b[49m\u001b[38;5;241;43m250\u001b[39;49m\u001b[43m,\u001b[49m\u001b[43m[\u001b[49m\u001b[38;5;241;43m1\u001b[39;49m\u001b[43m,\u001b[49m\u001b[43m \u001b[49m\u001b[38;5;241;43m4\u001b[39;49m\u001b[43m]\u001b[49m\u001b[43m,\u001b[49m\u001b[38;5;124;43m'\u001b[39;49m\u001b[38;5;124;43mmultitaper\u001b[39;49m\u001b[38;5;124;43m'\u001b[39;49m\u001b[43m)\u001b[49m\n\u001b[0;32m      7\u001b[0m np\u001b[38;5;241m.\u001b[39msave(\u001b[38;5;124m'\u001b[39m\u001b[38;5;124ms\u001b[39m\u001b[38;5;124m'\u001b[39m\u001b[38;5;241m+\u001b[39m\u001b[38;5;28mstr\u001b[39m(num_subject[i])\u001b[38;5;241m+\u001b[39m\u001b[38;5;124m'\u001b[39m\u001b[38;5;124m_band_power_all_band_2nd\u001b[39m\u001b[38;5;124m'\u001b[39m, band_power_all_band)\n",
      "Input \u001b[1;32mIn [1]\u001b[0m, in \u001b[0;36mmyBandPower\u001b[1;34m(data, sampling_rate, frequency_band1, method, window_sec)\u001b[0m\n\u001b[0;32m     23\u001b[0m     freqs, psd \u001b[38;5;241m=\u001b[39m welch(data, sampling_rate, nperseg\u001b[38;5;241m=\u001b[39mnum_of_sample_per_segment)\n\u001b[0;32m     24\u001b[0m \u001b[38;5;28;01melif\u001b[39;00m method \u001b[38;5;241m==\u001b[39m \u001b[38;5;124m'\u001b[39m\u001b[38;5;124mmultitaper\u001b[39m\u001b[38;5;124m'\u001b[39m:\n\u001b[1;32m---> 25\u001b[0m     psd, freqs \u001b[38;5;241m=\u001b[39m \u001b[43mpsd_array_multitaper\u001b[49m\u001b[43m(\u001b[49m\u001b[43mdata\u001b[49m\u001b[43m,\u001b[49m\u001b[43m \u001b[49m\u001b[43msampling_rate\u001b[49m\u001b[43m,\u001b[49m\u001b[43m \u001b[49m\u001b[43madaptive\u001b[49m\u001b[38;5;241;43m=\u001b[39;49m\u001b[38;5;28;43;01mTrue\u001b[39;49;00m\u001b[43m,\u001b[49m\n\u001b[0;32m     26\u001b[0m \u001b[43m                                      \u001b[49m\u001b[43mnormalization\u001b[49m\u001b[38;5;241;43m=\u001b[39;49m\u001b[38;5;124;43m'\u001b[39;49m\u001b[38;5;124;43mfull\u001b[39;49m\u001b[38;5;124;43m'\u001b[39;49m\u001b[43m,\u001b[49m\u001b[43m \u001b[49m\u001b[43mverbose\u001b[49m\u001b[38;5;241;43m=\u001b[39;49m\u001b[38;5;241;43m0\u001b[39;49m\u001b[43m)\u001b[49m\n\u001b[0;32m     27\u001b[0m \u001b[38;5;66;03m# Frequency resolution\u001b[39;00m\n\u001b[0;32m     28\u001b[0m freq_res \u001b[38;5;241m=\u001b[39m freqs[\u001b[38;5;241m1\u001b[39m] \u001b[38;5;241m-\u001b[39m freqs[\u001b[38;5;241m0\u001b[39m]\n",
      "File \u001b[1;32m<decorator-gen-95>:10\u001b[0m, in \u001b[0;36mpsd_array_multitaper\u001b[1;34m(x, sfreq, fmin, fmax, bandwidth, adaptive, low_bias, normalization, output, n_jobs, verbose)\u001b[0m\n",
      "File \u001b[1;32m~\\AppData\\Local\\Programs\\Python\\Python310\\lib\\site-packages\\mne\\time_frequency\\multitaper.py:458\u001b[0m, in \u001b[0;36mpsd_array_multitaper\u001b[1;34m(x, sfreq, fmin, fmax, bandwidth, adaptive, low_bias, normalization, output, n_jobs, verbose)\u001b[0m\n\u001b[0;32m    455\u001b[0m         n_splits \u001b[38;5;241m=\u001b[39m \u001b[38;5;28mmin\u001b[39m(stop \u001b[38;5;241m-\u001b[39m start, n_jobs)\n\u001b[0;32m    456\u001b[0m         parallel, my_psd_from_mt_adaptive, n_jobs \u001b[38;5;241m=\u001b[39m \\\n\u001b[0;32m    457\u001b[0m             parallel_func(_psd_from_mt_adaptive, n_splits)\n\u001b[1;32m--> 458\u001b[0m         out \u001b[38;5;241m=\u001b[39m \u001b[43mparallel\u001b[49m\u001b[43m(\u001b[49m\u001b[43mmy_psd_from_mt_adaptive\u001b[49m\u001b[43m(\u001b[49m\u001b[43mx\u001b[49m\u001b[43m,\u001b[49m\u001b[43m \u001b[49m\u001b[43meigvals\u001b[49m\u001b[43m,\u001b[49m\u001b[43m \u001b[49m\u001b[43mfreq_mask\u001b[49m\u001b[43m)\u001b[49m\n\u001b[0;32m    459\u001b[0m \u001b[43m                       \u001b[49m\u001b[38;5;28;43;01mfor\u001b[39;49;00m\u001b[43m \u001b[49m\u001b[43mx\u001b[49m\u001b[43m \u001b[49m\u001b[38;5;129;43;01min\u001b[39;49;00m\u001b[43m \u001b[49m\u001b[43mnp\u001b[49m\u001b[38;5;241;43m.\u001b[39;49m\u001b[43marray_split\u001b[49m\u001b[43m(\u001b[49m\u001b[43mx_mt\u001b[49m\u001b[43m,\u001b[49m\u001b[43m \u001b[49m\u001b[43mn_splits\u001b[49m\u001b[43m)\u001b[49m\u001b[43m)\u001b[49m\n\u001b[0;32m    460\u001b[0m         psd[start:stop] \u001b[38;5;241m=\u001b[39m np\u001b[38;5;241m.\u001b[39mconcatenate(out)\n\u001b[0;32m    461\u001b[0m \u001b[38;5;28;01melse\u001b[39;00m:\n",
      "File \u001b[1;32m~\\AppData\\Local\\Programs\\Python\\Python310\\lib\\site-packages\\mne\\time_frequency\\multitaper.py:458\u001b[0m, in \u001b[0;36m<genexpr>\u001b[1;34m(.0)\u001b[0m\n\u001b[0;32m    455\u001b[0m         n_splits \u001b[38;5;241m=\u001b[39m \u001b[38;5;28mmin\u001b[39m(stop \u001b[38;5;241m-\u001b[39m start, n_jobs)\n\u001b[0;32m    456\u001b[0m         parallel, my_psd_from_mt_adaptive, n_jobs \u001b[38;5;241m=\u001b[39m \\\n\u001b[0;32m    457\u001b[0m             parallel_func(_psd_from_mt_adaptive, n_splits)\n\u001b[1;32m--> 458\u001b[0m         out \u001b[38;5;241m=\u001b[39m parallel(\u001b[43mmy_psd_from_mt_adaptive\u001b[49m\u001b[43m(\u001b[49m\u001b[43mx\u001b[49m\u001b[43m,\u001b[49m\u001b[43m \u001b[49m\u001b[43meigvals\u001b[49m\u001b[43m,\u001b[49m\u001b[43m \u001b[49m\u001b[43mfreq_mask\u001b[49m\u001b[43m)\u001b[49m\n\u001b[0;32m    459\u001b[0m                        \u001b[38;5;28;01mfor\u001b[39;00m x \u001b[38;5;129;01min\u001b[39;00m np\u001b[38;5;241m.\u001b[39marray_split(x_mt, n_splits))\n\u001b[0;32m    460\u001b[0m         psd[start:stop] \u001b[38;5;241m=\u001b[39m np\u001b[38;5;241m.\u001b[39mconcatenate(out)\n\u001b[0;32m    461\u001b[0m \u001b[38;5;28;01melse\u001b[39;00m:\n",
      "File \u001b[1;32m~\\AppData\\Local\\Programs\\Python\\Python310\\lib\\site-packages\\mne\\time_frequency\\multitaper.py:215\u001b[0m, in \u001b[0;36m_psd_from_mt_adaptive\u001b[1;34m(x_mt, eigvals, freq_mask, max_iter, return_weights)\u001b[0m\n\u001b[0;32m    212\u001b[0m         \u001b[38;5;28;01mbreak\u001b[39;00m\n\u001b[0;32m    214\u001b[0m     \u001b[38;5;66;03m# update the iterative estimate with this d_k\u001b[39;00m\n\u001b[1;32m--> 215\u001b[0m     psd_iter \u001b[38;5;241m=\u001b[39m \u001b[43m_psd_from_mt\u001b[49m\u001b[43m(\u001b[49m\u001b[43mxk\u001b[49m\u001b[43m,\u001b[49m\u001b[43m \u001b[49m\u001b[43md_k\u001b[49m\u001b[43m)\u001b[49m\n\u001b[0;32m    216\u001b[0m     err \u001b[38;5;241m=\u001b[39m d_k\n\u001b[0;32m    218\u001b[0m \u001b[38;5;28;01mif\u001b[39;00m n \u001b[38;5;241m==\u001b[39m max_iter \u001b[38;5;241m-\u001b[39m \u001b[38;5;241m1\u001b[39m:\n",
      "File \u001b[1;32m~\\AppData\\Local\\Programs\\Python\\Python310\\lib\\site-packages\\mne\\time_frequency\\multitaper.py:248\u001b[0m, in \u001b[0;36m_psd_from_mt\u001b[1;34m(x_mt, weights)\u001b[0m\n\u001b[0;32m    233\u001b[0m \u001b[38;5;124;03m\"\"\"Compute PSD from tapered spectra.\u001b[39;00m\n\u001b[0;32m    234\u001b[0m \n\u001b[0;32m    235\u001b[0m \u001b[38;5;124;03mParameters\u001b[39;00m\n\u001b[1;32m   (...)\u001b[0m\n\u001b[0;32m    245\u001b[0m \u001b[38;5;124;03m    The computed PSD\u001b[39;00m\n\u001b[0;32m    246\u001b[0m \u001b[38;5;124;03m\"\"\"\u001b[39;00m\n\u001b[0;32m    247\u001b[0m psd \u001b[38;5;241m=\u001b[39m weights \u001b[38;5;241m*\u001b[39m x_mt\n\u001b[1;32m--> 248\u001b[0m psd \u001b[38;5;241m*\u001b[39m\u001b[38;5;241m=\u001b[39m \u001b[43mpsd\u001b[49m\u001b[38;5;241;43m.\u001b[39;49m\u001b[43mconj\u001b[49m\u001b[43m(\u001b[49m\u001b[43m)\u001b[49m\n\u001b[0;32m    249\u001b[0m psd \u001b[38;5;241m=\u001b[39m psd\u001b[38;5;241m.\u001b[39mreal\u001b[38;5;241m.\u001b[39msum(axis\u001b[38;5;241m=\u001b[39m\u001b[38;5;241m-\u001b[39m\u001b[38;5;241m2\u001b[39m)\n\u001b[0;32m    250\u001b[0m psd \u001b[38;5;241m*\u001b[39m\u001b[38;5;241m=\u001b[39m \u001b[38;5;241m2\u001b[39m \u001b[38;5;241m/\u001b[39m (weights \u001b[38;5;241m*\u001b[39m weights\u001b[38;5;241m.\u001b[39mconj())\u001b[38;5;241m.\u001b[39mreal\u001b[38;5;241m.\u001b[39msum(axis\u001b[38;5;241m=\u001b[39m\u001b[38;5;241m-\u001b[39m\u001b[38;5;241m2\u001b[39m)\n",
      "\u001b[1;31mKeyboardInterrupt\u001b[0m: "
     ]
    }
   ],
   "source": [
    "##feature extraction\n",
    "num_subject=np.array([50,51])\n",
    "for i in range(len(num_subject)):\n",
    "    data= np.load('s'+str(num_subject[i])+'_clean_resting_state_2nd.npy')\n",
    "    power=np.zeros((63,28))\n",
    "    for ii in range (63):\n",
    "        power[ii] = myBandPower(data[ii,:], 250,[1, 4],'multitaper')\n",
    "    np.save('s'+str(num_subject[i])+'_band_power_all_band_2nd',power)"
   ]
  },
  {
   "cell_type": "code",
   "execution_count": null,
   "id": "4ca8925a",
   "metadata": {},
   "outputs": [],
   "source": [
    "cls2_lable=np.zeros((23))+2\n",
    "cls1_lable=np.zeros((13))+1\n",
    "lables=np.concatenate((cls1_lable,cls2_lable))\n",
    "features=power"
   ]
  },
  {
   "cell_type": "code",
   "execution_count": null,
   "id": "f4bcf728",
   "metadata": {},
   "outputs": [],
   "source": [
    "from sklearn.model_selection import LeaveOneOut\n",
    "loo=LeaveOneOut()\n",
    "for train,test in loo.split(X_S):\n",
    "    rbf = svm.SVC(kernel='rbf', gamma=0.5, C=0.1).fit(X_S[train,:], Y[train])\n",
    "    rbf_pred = rbf.predict(X_S[test,:])\n",
    "    rbf_accuracy = accuracy_score(Y[test], rbf_pred)\n",
    "    rbf_f1 = f1_score(Y[test], rbf_pred, average='weighted')\n",
    "    print('Accuracy (RBF Kernel): ', \"%.2f\" % (rbf_accuracy*100))\n",
    "    print('F1 (RBF Kernel): ', \"%.2f\" % (rbf_f1*100))"
   ]
  }
 ],
 "metadata": {
  "kernelspec": {
   "display_name": "Python 3 (ipykernel)",
   "language": "python",
   "name": "python3"
  },
  "language_info": {
   "codemirror_mode": {
    "name": "ipython",
    "version": 3
   },
   "file_extension": ".py",
   "mimetype": "text/x-python",
   "name": "python",
   "nbconvert_exporter": "python",
   "pygments_lexer": "ipython3",
   "version": "3.10.4"
  }
 },
 "nbformat": 4,
 "nbformat_minor": 5
}
