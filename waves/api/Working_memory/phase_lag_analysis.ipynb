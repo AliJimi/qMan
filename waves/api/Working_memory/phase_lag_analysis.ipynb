{
 "cells": [
  {
   "cell_type": "code",
   "execution_count": 4,
   "id": "caed192e",
   "metadata": {},
   "outputs": [
    {
     "data": {
      "text/plain": [
       "(64, 1)"
      ]
     },
     "execution_count": 4,
     "metadata": {},
     "output_type": "execute_result"
    }
   ],
   "source": [
    "import numpy as np\n",
    "indexes=np.load('sig_corr_pearson.npy')\n",
    "indexes.shape"
   ]
  },
  {
   "cell_type": "code",
   "execution_count": null,
   "id": "c27df43f",
   "metadata": {},
   "outputs": [],
   "source": [
    "'Fp1','Fz','F3','F7','FT9','FC5','FC1','C3','T7','TP9','CP5','CP1','Pz','P3','P7','O1','Oz','O2','P4','P8','TP10',\n",
    "  0    1    2    3     4     5     6     7    8    9     10    11   12   13   14   15   16   17   18   19    20\n",
    "    \n",
    "'CP6','CP2','Cz','C4','T8','FT10','FC6','FC2','F4','F8','Fp2','AF7','AF3','AFz','F1','F5','FT7','FC3','C1',\n",
    "  21    22   23   24   25    26     27   28    29   30   31    32     33   34    35   36    37   38    39\n",
    "    \n",
    "'C5','TP7','CP3','P1','P5','PO7','PO3','POz','PO4','PO8','P6','P2','CPz','CP4','TP8','C6','C2','FC4','FT8',\n",
    "40     41    42   43   44   45    46    47    48     49   50   51    52   53     54   55   56   57     58\n",
    "\n",
    "'F6','AF8','AF4','F2'))\n",
    "  59   60   61     62"
   ]
  },
  {
   "cell_type": "code",
   "execution_count": null,
   "id": "6c519bca",
   "metadata": {},
   "outputs": [],
   "source": [
    "['alpha']\t['Oz'] 16\n",
    "['alpha']\t['CP2'] 22\n",
    "['alpha']\t['P1']43\n",
    "['alpha']\t['P5']44\n",
    "['alpha']\t['P6']50\n",
    "\n",
    "['beta']\t['T7']8\n",
    "['beta']\t['TP9']9\n",
    "['beta']\t['O1']15\n",
    "['beta']\t['F5']36\n",
    "['beta']\t['FT7']37\n",
    "['beta']\t['C1']39\n",
    "['beta']\t['P1']43\n",
    "\n",
    "['h_beta']\t['FT9']4\n",
    "['h_beta']\t['AF7']32\n",
    "\n",
    "['gamma']\t['Fz']1\n",
    "['gamma']\t['P2']51\n",
    "\n",
    "['h_gamma']\t['Oz']16\n",
    "['h_gamma']\t['CP2']22\n",
    "['h_gamma']\t['P1']43\n",
    "\n",
    "['beta_1']\t['CP2']22\n",
    "['beta_1']\t['P6']50\n",
    "['beta_1']\t['P2']51\n",
    "['beta_1']\t['FC4']57\n",
    "22,50,51,57\n",
    "['beta_2']\t['O1']15\n",
    "['beta_2']\t['CP2']22\n",
    "['beta_2']\t['P1']43\n",
    "['beta_2']\t['P5']44\n",
    "['beta_2']\t['P6']50\n",
    ",[15,22,43,44,50]\n",
    "['beta_3']\t['T7']8\n",
    "['beta_3']\t['F5']36\n",
    "['beta_3']\t['FT7']37\n",
    "['beta_3']\t['P1']43\n",
    "8,36,37,43\n",
    "['gamma_1']\t['Fz']1\n",
    "['gamma_1']\t['F4']29\n",
    "['gamma_1']\t['F8']30\n",
    "['gamma_1']\t['F5']36\n",
    "['gamma_1']\t['FC4']57\n",
    "['gamma_1']\t['FT8']58\n",
    "1,29,30,36,57,58]\n",
    "['gamma_2']\t['Fz']1\n",
    "['gamma_2']\t['CP2']22\n",
    "['gamma_2']\t['Cz']23\n",
    "['gamma_2']\t['F4']29\n",
    "['gamma_2']\t['P6']50\n",
    "['gamma_2']\t['P2']51\n",
    "['gamma_2']\t['FC4']57\n",
    ",[1,22,23,29,50,51,57]\n",
    "'delta','theta',alpha,beta,h_beta,beta1,beta2,beta3,gamma1,gamma2\n",
    "'Fp1','Fz','F3','F7','FT9','FC5','FC1','C3','T7','TP9','CP5','CP1','Pz','P3','P7','O1','Oz','O2','P4','P8','TP10','CP6','CP2','Cz','C4','T8','FT10','FC6','FC2','F4','F8','Fp2','AF7','AF3','AFz','F1','F5','FT7','FC3','C1','C5','TP7','CP3','P1','P5','PO7','PO3','POz','PO4','PO8','P6','P2','CPz','CP4','TP8','C6','C2','FC4','FT8','F6','AF8','AF4','F2'\n",
    "  0    1    2     3    4     5     6     7    8    9     10    11   12   13   14   15   16   17   18   19   20      21   22    23   24   25    26    27    28    29   30   31    32     33    34   35   36    37    38   39   40    41   42    43   44   45    46    47    48    49    50   51   52    53     54   55   56    57    58   59   58     59   60        "
   ]
  },
  {
   "cell_type": "code",
   "execution_count": 1,
   "id": "1098ff59",
   "metadata": {},
   "outputs": [
    {
     "ename": "NameError",
     "evalue": "name 'phase_diff_delta' is not defined",
     "output_type": "error",
     "traceback": [
      "\u001b[1;31m---------------------------------------------------------------------------\u001b[0m",
      "\u001b[1;31mNameError\u001b[0m                                 Traceback (most recent call last)",
      "Input \u001b[1;32mIn [1]\u001b[0m, in \u001b[0;36m<cell line: 1>\u001b[1;34m()\u001b[0m\n\u001b[1;32m----> 1\u001b[0m phase_diff_all_band\u001b[38;5;241m=\u001b[39m[\u001b[43mphase_diff_delta\u001b[49m,phase_diff_theta,phase_diff_alpha,phase_diff_beta,phase_diff_h_beta,\n\u001b[0;32m      2\u001b[0m                              phase_diff_beta1,phase_diff_beta2,phase_diff_beta3,phase_diff_gamma1,phase_diff_gamma2]                                                         \n\u001b[0;32m      3\u001b[0m np\u001b[38;5;241m.\u001b[39msave(\u001b[38;5;124m'\u001b[39m\u001b[38;5;124ms\u001b[39m\u001b[38;5;124m'\u001b[39m\u001b[38;5;241m+\u001b[39m\u001b[38;5;28mstr\u001b[39m(num_subjects[i])\u001b[38;5;241m+\u001b[39m\u001b[38;5;124m'\u001b[39m\u001b[38;5;124m_phase_diff_all_band_2nd\u001b[39m\u001b[38;5;124m'\u001b[39m, phase_diff_all_band)\n",
      "\u001b[1;31mNameError\u001b[0m: name 'phase_diff_delta' is not defined"
     ]
    }
   ],
   "source": [
    "phase_diff_all_band=[phase_diff_delta,phase_diff_theta,phase_diff_alpha,phase_diff_beta,phase_diff_h_beta,\n",
    "                             phase_diff_beta1,phase_diff_beta2,phase_diff_beta3,phase_diff_gamma1,phase_diff_gamma2]                                                         \n",
    "np.save('s'+str(num_subjects[i])+'_phase_diff_all_band_2nd', phase_diff_all_band)"
   ]
  },
  {
   "cell_type": "code",
   "execution_count": 27,
   "id": "32b05aaf",
   "metadata": {},
   "outputs": [],
   "source": [
    "import numpy as np\n",
    "from scipy import stats\n",
    "from scipy.stats import norm\n",
    "import scipy.io\n",
    "import scipy.signal as ss\n",
    "num_subjects_clean=np.load('num_subjects_clean.npy')\n",
    "##gathering power features of all subjects in one file\n",
    "phase_diff_all=np.empty((len(num_subjects_clean),8))\n",
    "for i in range(len(num_subjects_clean)):\n",
    "    cc=np.load('s'+str(num_subjects_clean[i])+'_phase_diff_all_band_2nd.npy')\n",
    "    phase_diff=np.square(cc)\n",
    "    ph_dif_alpha=phase_diff[2,[16,22,43,44,50],:]\n",
    "    phase_diff_alpha=np.sum(ph_dif_alpha[:,[16,22,43,44,50]])\n",
    "\n",
    "    ph_dif_beta=phase_diff[3,[8,9,15,36,37,39,43],:]\n",
    "    phase_diff_beta=np.sum(ph_dif_beta[:,[8,9,15,36,37,39,43]])\n",
    "\n",
    "    ph_dif_h_beta=phase_diff[4,[4,32],:]\n",
    "    phase_diff_h_beta=np.sum(ph_dif_h_beta[:,[4,32]])\n",
    "\n",
    "    ph_dif_beta1=phase_diff[5,[22,50,51,57],:]\n",
    "    phase_diff_beta1=np.sum(ph_dif_beta1[:,[22,50,51,57]])\n",
    "\n",
    "    ph_dif_beta2=phase_diff[6,[15,22,43,44,50],:]\n",
    "    phase_diff_beta2=np.sum(ph_dif_beta2[:,[15,22,43,44,50]])\n",
    "\n",
    "    ph_dif_beta3=phase_diff[7,[8,36,37,43],:]\n",
    "    phase_diff_beta3=np.sum(ph_dif_beta3[:,[8,36,37,43]])\n",
    "\n",
    "    ph_dif_gamma1=phase_diff[8,[1,29,30,36,57,58],:]\n",
    "    phase_diff_gamma1=np.sum(ph_dif_gamma1[:,[1,29,30,36,57,58]])\n",
    "\n",
    "    ph_dif_gamma2=phase_diff[9,[1,22,23,29,50,51,57],:]\n",
    "    phase_diff_gamma2=np.sum(ph_dif_gamma2[:,[1,22,23,29,50,51,57]])\n",
    "\n",
    "    ph_diff_all=np.array((phase_diff_alpha,phase_diff_beta,phase_diff_h_beta,phase_diff_beta1,phase_diff_beta2,\n",
    "                         phase_diff_beta3,phase_diff_gamma1,phase_diff_gamma2))\n",
    "    \n",
    "    phase_diff_all[i,:]= ph_diff_all"
   ]
  },
  {
   "cell_type": "code",
   "execution_count": 28,
   "id": "8814fb81",
   "metadata": {},
   "outputs": [
    {
     "data": {
      "text/plain": [
       "(51, 8)"
      ]
     },
     "execution_count": 28,
     "metadata": {},
     "output_type": "execute_result"
    }
   ],
   "source": [
    "phase_diff_all.shape"
   ]
  },
  {
   "cell_type": "code",
   "execution_count": 22,
   "id": "5c90f6ed",
   "metadata": {},
   "outputs": [
    {
     "name": "stdout",
     "output_type": "stream",
     "text": [
      "[]\n"
     ]
    }
   ],
   "source": [
    "pearson_score=np.empty(8)\n",
    "cognitive_score_clean=np.load('cognitive_score_clean.npy')\n",
    "for ii in range(8):\n",
    "    h1=scipy.stats.pearsonr(cognitive_score_clean, phase_diff_all[:,ii])  \n",
    "    corr=h1[0]\n",
    "    pearson_score[ii]=corr\n",
    "significant_corrolations_pearson=np.argwhere(pearson_score>0.3)\n",
    "print(significant_corrolations_pearson)\n",
    "np.save('sig_corr_pearson',significant_corrolations_pearson)"
   ]
  },
  {
   "cell_type": "code",
   "execution_count": 38,
   "id": "97bf56b9",
   "metadata": {},
   "outputs": [],
   "source": [
    "import numpy as np\n",
    "from scipy import stats\n",
    "from scipy.stats import norm\n",
    "import scipy.io\n",
    "import scipy.signal as ss\n",
    "num_subjects_clean=np.load('num_subjects_clean.npy')\n",
    "##gathering power features of all subjects in one file\n",
    "phase_diff_all=np.zeros((220,51))\n",
    "for i in range(len(num_subjects_clean)):\n",
    "    cc=np.load('s'+str(num_subjects_clean[i])+'_phase_diff_all_band_2nd.npy')\n",
    "    phase_diff=np.square(cc)\n",
    "    ph_dif_alpha=phase_diff[2,[16,22,43,44,50],:]\n",
    "    phase_diff_alpha=ph_dif_alpha[:,[16,22,43,44,50]]\n",
    "    phase_diff_alpha=phase_diff_alpha.reshape((1,25))\n",
    "    \n",
    "    ph_dif_beta=phase_diff[3,[8,9,15,36,37,39,43],:]\n",
    "    phase_diff_beta=ph_dif_beta[:,[8,9,15,36,37,39,43]]\n",
    "    phase_diff_beta=phase_diff_beta.reshape((1,49))\n",
    "\n",
    "    ph_dif_h_beta=phase_diff[4,[4,32],:]\n",
    "    phase_diff_h_beta=ph_dif_h_beta[:,[4,32]]\n",
    "    phase_diff_h_beta=phase_diff_h_beta.reshape((1,4))\n",
    "\n",
    "    ph_dif_beta1=phase_diff[5,[22,50,51,57],:]\n",
    "    phase_diff_beta1=ph_dif_beta1[:,[22,50,51,57]]\n",
    "    phase_diff_beta1=phase_diff_beta1.reshape((1,16))\n",
    "\n",
    "    ph_dif_beta2=phase_diff[6,[15,22,43,44,50],:]\n",
    "    phase_diff_beta2=ph_dif_beta2[:,[15,22,43,44,50]]\n",
    "    phase_diff_beta2=phase_diff_beta2.reshape((1,25))\n",
    "\n",
    "    ph_dif_beta3=phase_diff[7,[8,36,37,43],:]\n",
    "    phase_diff_beta3=ph_dif_beta3[:,[8,36,37,43]]\n",
    "    phase_diff_beta3=phase_diff_beta3.reshape((1,16))\n",
    "\n",
    "    ph_dif_gamma1=phase_diff[8,[1,29,30,36,57,58],:]\n",
    "    phase_diff_gamma1=ph_dif_gamma1[:,[1,29,30,36,57,58]]\n",
    "    phase_diff_gamma1=phase_diff_gamma1.reshape((1,36))\n",
    "\n",
    "    ph_dif_gamma2=phase_diff[9,[1,22,23,29,50,51,57],:]\n",
    "    phase_diff_gamma2=ph_dif_gamma2[:,[1,22,23,29,50,51,57]]\n",
    "    phase_diff_gamma2=phase_diff_gamma2.reshape((1,49))\n",
    "\n",
    "    #ph_diff_all=np.vstack((phase_diff_alpha,phase_diff_beta,phase_diff_h_beta,phase_diff_beta1,phase_diff_beta2,\n",
    "                         #phase_diff_beta3,phase_diff_gamma1,phase_diff_gamma2))\n",
    "    ph_diff_all= np.vstack([phase_diff_alpha.T,phase_diff_beta.T,phase_diff_h_beta.T,phase_diff_beta1.T,phase_diff_beta2.T,\n",
    "                           phase_diff_beta3.T,phase_diff_gamma1.T,phase_diff_gamma2.T])\n",
    "    phase_diff_all[:,i:i+1]=ph_diff_all"
   ]
  },
  {
   "cell_type": "code",
   "execution_count": 82,
   "id": "94e64e96",
   "metadata": {},
   "outputs": [
    {
     "name": "stdout",
     "output_type": "stream",
     "text": [
      "[[ 553]\n",
      " [1051]\n",
      " [1115]\n",
      " [1296]\n",
      " [2129]\n",
      " [2288]\n",
      " [2725]\n",
      " [2789]\n",
      " [3095]\n",
      " [3183]]\n"
     ]
    }
   ],
   "source": [
    "pearson_score=np.empty(63*63)\n",
    "cognitive_score_clean=np.load('cognitive_score_clean.npy')\n",
    "for ii in range(63*63):\n",
    "    h1=scipy.stats.pearsonr(cognitive_score_clean, phase_diff_all[ii,:])\n",
    "    corr=h1[0]\n",
    "    pearson_score[ii]=corr\n",
    "significant_corrolations_pearson=np.argwhere(pearson_score>0.4)\n",
    "print(significant_corrolations_pearson)\n",
    "np.save('sig_corr_pearson',significant_corrolations_pearson)"
   ]
  },
  {
   "cell_type": "code",
   "execution_count": 74,
   "id": "a9ca45b1",
   "metadata": {},
   "outputs": [
    {
     "data": {
      "text/plain": [
       "(3969, 51)"
      ]
     },
     "execution_count": 74,
     "metadata": {},
     "output_type": "execute_result"
    }
   ],
   "source": [
    "phase_diff_all.shape"
   ]
  },
  {
   "cell_type": "code",
   "execution_count": 88,
   "id": "1ec03414",
   "metadata": {},
   "outputs": [
    {
     "data": {
      "image/png": "[encoded data removed]",
      "text/plain": [
       "<Figure size 432x288 with 1 Axes>"
      ]
     },
     "metadata": {
      "needs_background": "light"
     },
     "output_type": "display_data"
    }
   ],
   "source": [
    "import matplotlib.pyplot as plt\n",
    "%matplotlib inline\n",
    "fig = plt.figure()\n",
    "# Creating subplot/axes\n",
    "ax = fig.add_subplot(111)\n",
    "# Setting axes/plot title\n",
    "ax.set_title('126th feature vs cognitive test score')\n",
    "plt.plot(cognitive_score_clean*5,phase_diff_all[3183,:])\n",
    "# Setting X-axis and Y-axis labels\n",
    "ax.set_ylabel('v^2')\n",
    "ax.set_xlabel('number of subject')\n",
    "ax.legend(['126th feature', 'cognitive test score'])\n",
    "#plt. locator_params(nbins = 100)\n",
    "plt.grid()\n",
    "# Showing the plot\n",
    "plt.show()"
   ]
  },
  {
   "cell_type": "code",
   "execution_count": 72,
   "id": "7f79a86b",
   "metadata": {},
   "outputs": [],
   "source": [
    "import numpy as np\n",
    "from scipy import stats\n",
    "from scipy.stats import norm\n",
    "import scipy.io\n",
    "import scipy.signal as ss\n",
    "num_subjects_clean=np.load('num_subjects_clean.npy')\n",
    "##gathering power features of all subjects in one file\n",
    "phase_diff_all=np.zeros((63*63,51))\n",
    "for i in range(len(num_subjects_clean)):\n",
    "    cc=np.load('s'+str(num_subjects_clean[i])+'_phase_diff_all_band_2nd.npy')\n",
    "    phase_diff=np.square(cc)\n",
    "    ph_dif_alpha=phase_diff[2,:,:]\n",
    "    ph=ph_dif_alpha.reshape((63*63),1)\n",
    "    #ph_diff_all=np.vstack((phase_diff_alpha,phase_diff_beta,phase_diff_h_beta,phase_diff_beta1,phase_diff_beta2,\n",
    "                         #phase_diff_beta3,phase_diff_gamma1,phase_diff_gamma2))\n",
    "    phase_diff_all[:,i:i+1]=ph"
   ]
  },
  {
   "cell_type": "code",
   "execution_count": 64,
   "id": "bee2ead3",
   "metadata": {},
   "outputs": [
    {
     "data": {
      "text/plain": [
       "(220, 51)"
      ]
     },
     "execution_count": 64,
     "metadata": {},
     "output_type": "execute_result"
    }
   ],
   "source": [
    "phase_diff_all.shape"
   ]
  },
  {
   "cell_type": "code",
   "execution_count": 10,
   "id": "de19eea2",
   "metadata": {},
   "outputs": [
    {
     "data": {
      "text/plain": [
       "(220, 1)"
      ]
     },
     "execution_count": 10,
     "metadata": {},
     "output_type": "execute_result"
    }
   ],
   "source": [
    "ph_diff_all.shape"
   ]
  },
  {
   "cell_type": "code",
   "execution_count": null,
   "id": "0d93e890",
   "metadata": {},
   "outputs": [],
   "source": []
  }
 ],
 "metadata": {
  "kernelspec": {
   "display_name": "Python 3",
   "language": "python",
   "name": "python3"
  },
  "language_info": {
   "codemirror_mode": {
    "name": "ipython",
    "version": 3
   },
   "file_extension": ".py",
   "mimetype": "text/x-python",
   "name": "python",
   "nbconvert_exporter": "python",
   "pygments_lexer": "ipython3",
   "version": "3.8.8"
  }
 },
 "nbformat": 4,
 "nbformat_minor": 5
}
