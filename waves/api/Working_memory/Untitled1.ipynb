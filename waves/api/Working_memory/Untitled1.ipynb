{
 "cells": [
  {
   "cell_type": "code",
   "execution_count": 2,
   "id": "6e4e9cf7",
   "metadata": {},
   "outputs": [],
   "source": [
    "import pandas as pd"
   ]
  },
  {
   "cell_type": "code",
   "execution_count": null,
   "id": "d7d6f26a",
   "metadata": {},
   "outputs": [],
   "source": [
    "data = {'Channel':  ['first_value', 'second_value', ...],\n",
    "        'Rythm': ['first_value', 'second_value', ...]"
   ]
  },
  {
   "cell_type": "code",
   "execution_count": 20,
   "id": "9cbca9cb",
   "metadata": {},
   "outputs": [],
   "source": []
  },
  {
   "cell_type": "code",
   "execution_count": 28,
   "id": "e3b4fb7c",
   "metadata": {},
   "outputs": [],
   "source": [
    "ch=pd.DataFrame({'Fp1','Fz','F3','F7','FT9','FC5','FC1','C3','T7','TP9','CP5','CP1','Pz','P3','P7','O1','Oz','O2','P4','P8','TP10',\n",
    "                  'CP6','CP2','Cz','C4','T8','FT10','FC6','FC2','F4','F8','Fp2','AF7','AF3','AFz','F1','F5','FT7','FC3','C1',\n",
    "                  'C5','TP7','CP3','P1','P5','PO7','PO3','POz','PO4','PO8','P6','P2','CPz','CP4','TP8','C6','C2','FC4','FT8',\n",
    "                  'F6','AF8','AF4','F2'})\n",
    "ch_adress= pd.concat([ch,ch,ch,ch,ch,ch,ch,ch,ch,ch,ch,ch,ch,ch,ch,ch,ch,ch,ch,ch,ch,ch,ch,ch,ch,ch,ch,ch], axis=0, join='inner')"
   ]
  },
  {
   "cell_type": "code",
   "execution_count": 30,
   "id": "e2ac9b9d",
   "metadata": {},
   "outputs": [
    {
     "data": {
      "text/plain": [
       "array([['FC4'],\n",
       "       ['Pz'],\n",
       "       ['F3'],\n",
       "       ...,\n",
       "       ['C3'],\n",
       "       ['PO7'],\n",
       "       ['F4']], dtype=object)"
      ]
     },
     "execution_count": 30,
     "metadata": {},
     "output_type": "execute_result"
    }
   ],
   "source": [
    "ch_adress.to_numpy()"
   ]
  },
  {
   "cell_type": "code",
   "execution_count": null,
   "id": "f4a3840e",
   "metadata": {},
   "outputs": [],
   "source": []
  }
 ],
 "metadata": {
  "kernelspec": {
   "display_name": "Python 3",
   "language": "python",
   "name": "python3"
  },
  "language_info": {
   "codemirror_mode": {
    "name": "ipython",
    "version": 3
   },
   "file_extension": ".py",
   "mimetype": "text/x-python",
   "name": "python",
   "nbconvert_exporter": "python",
   "pygments_lexer": "ipython3",
   "version": "3.8.8"
  }
 },
 "nbformat": 4,
 "nbformat_minor": 5
}
