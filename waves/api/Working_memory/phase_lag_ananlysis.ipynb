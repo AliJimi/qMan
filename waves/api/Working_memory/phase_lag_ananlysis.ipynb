{
 "cells": [
  {
   "cell_type": "code",
   "execution_count": null,
   "id": "01f0ed33",
   "metadata": {},
   "outputs": [],
   "source": [
    "import numpy as np\n",
    "hh=np.array([32,34,35,36,38,39,40,41,43,44,45,46,48,49,50,51,52,53,54,55,62,63,64,\n",
    "             68,69,70,71,72,73,75,79,80,81,82,83,84,85,86,88,89,90,91,92,93,94,96,97,98])\n",
    "beh_all=np.empty((0,2))\n",
    "for i in range(48):\n",
    "    c_c=np.load('s'+str(hh[i])+'_phase_diff_all_band.npy')\n",
    "    c_c=c_c.reshape((1,c_c.shape[0]))\n",
    "    beh_all=np.append(beh_all,c_c,axis=0)\n",
    "    stric=stats.zscore(beh_all[:,0])"
   ]
  },
  {
   "cell_type": "code",
   "execution_count": null,
   "id": "71c9b559",
   "metadata": {},
   "outputs": [],
   "source": [
    "# left frontal (Fl)=fp1,f3,f7=0,2,10\n",
    "# right frontal (Fr)=fp2,f4,f8=1,3,11\n",
    "# left central (C)=t3, c3=12,4\n",
    "# right central (C)=t4, c4=13,5\n",
    "# left parietal-occipital (lPO)=t5,p3,o1=14,6,8\n",
    "# right parietal-occipital (rPO)=t6,p4,o2=15,7,9\n",
    "# midline (M)=fz,cz,pz=17,16,18"
   ]
  },
  {
   "cell_type": "code",
   "execution_count": 41,
   "id": "5e6bdc1a",
   "metadata": {},
   "outputs": [],
   "source": [
    "import numpy as np\n",
    "phase_lag=np.load('s32_phase_diff_all_band.npy')"
   ]
  },
  {
   "cell_type": "code",
   "execution_count": 110,
   "id": "769e91e6",
   "metadata": {},
   "outputs": [],
   "source": [
    "from itertools import combinations\n",
    "left_frontal=[0,2,10]\n",
    "index_left_frontal = list(map(list, combinations(left_frontal, 2)))"
   ]
  },
  {
   "cell_type": "code",
   "execution_count": 111,
   "id": "53c9cfbd",
   "metadata": {},
   "outputs": [
    {
     "ename": "NameError",
     "evalue": "name 'index_left_frontall' is not defined",
     "output_type": "error",
     "traceback": [
      "\u001b[1;31m---------------------------------------------------------------------------\u001b[0m",
      "\u001b[1;31mNameError\u001b[0m                                 Traceback (most recent call last)",
      "\u001b[1;32m<ipython-input-111-ee03610b6e8f>\u001b[0m in \u001b[0;36m<module>\u001b[1;34m\u001b[0m\n\u001b[0;32m      1\u001b[0m \u001b[0mpl_frontal\u001b[0m\u001b[1;33m=\u001b[0m\u001b[0mnp\u001b[0m\u001b[1;33m.\u001b[0m\u001b[0mempty\u001b[0m\u001b[1;33m(\u001b[0m\u001b[1;33m(\u001b[0m\u001b[1;36m8\u001b[0m\u001b[1;33m,\u001b[0m\u001b[0mlen\u001b[0m\u001b[1;33m(\u001b[0m\u001b[0mleft_frontal\u001b[0m\u001b[1;33m)\u001b[0m\u001b[1;33m)\u001b[0m\u001b[1;33m)\u001b[0m\u001b[1;33m\u001b[0m\u001b[1;33m\u001b[0m\u001b[0m\n\u001b[1;32m----> 2\u001b[1;33m \u001b[1;32mfor\u001b[0m \u001b[0mi\u001b[0m \u001b[1;32min\u001b[0m \u001b[0mrange\u001b[0m\u001b[1;33m(\u001b[0m\u001b[0mlen\u001b[0m\u001b[1;33m(\u001b[0m\u001b[0mindex_left_frontall\u001b[0m\u001b[1;33m)\u001b[0m\u001b[1;33m)\u001b[0m\u001b[1;33m:\u001b[0m\u001b[1;33m\u001b[0m\u001b[1;33m\u001b[0m\u001b[0m\n\u001b[0m\u001b[0;32m      3\u001b[0m     \u001b[0mindex\u001b[0m\u001b[1;33m=\u001b[0m\u001b[0mindex_left_frontal\u001b[0m\u001b[1;33m[\u001b[0m\u001b[0mi\u001b[0m\u001b[1;33m]\u001b[0m\u001b[1;33m\u001b[0m\u001b[1;33m\u001b[0m\u001b[0m\n\u001b[0;32m      4\u001b[0m     \u001b[0mpl_frontal\u001b[0m\u001b[1;33m[\u001b[0m\u001b[1;33m:\u001b[0m\u001b[1;33m,\u001b[0m\u001b[0mi\u001b[0m\u001b[1;33m]\u001b[0m\u001b[1;33m=\u001b[0m\u001b[0mphase_lag\u001b[0m\u001b[1;33m[\u001b[0m\u001b[1;33m:\u001b[0m\u001b[1;33m,\u001b[0m\u001b[0mindex\u001b[0m\u001b[1;33m[\u001b[0m\u001b[1;36m0\u001b[0m\u001b[1;33m]\u001b[0m\u001b[1;33m,\u001b[0m\u001b[0mindex\u001b[0m\u001b[1;33m[\u001b[0m\u001b[1;36m1\u001b[0m\u001b[1;33m]\u001b[0m\u001b[1;33m]\u001b[0m\u001b[1;33m\u001b[0m\u001b[1;33m\u001b[0m\u001b[0m\n\u001b[0;32m      5\u001b[0m \u001b[0mphase_lag_left_frontal\u001b[0m\u001b[1;33m=\u001b[0m\u001b[0mnp\u001b[0m\u001b[1;33m.\u001b[0m\u001b[0msum\u001b[0m\u001b[1;33m(\u001b[0m\u001b[0mpl_frontal\u001b[0m\u001b[1;33m,\u001b[0m\u001b[0maxis\u001b[0m\u001b[1;33m=\u001b[0m\u001b[1;36m1\u001b[0m\u001b[1;33m)\u001b[0m\u001b[1;33m\u001b[0m\u001b[1;33m\u001b[0m\u001b[0m\n",
      "\u001b[1;31mNameError\u001b[0m: name 'index_left_frontall' is not defined"
     ]
    }
   ],
   "source": [
    "pl_frontal=np.empty((8,len(left_frontal)))\n",
    "for i in range(len(index_left_frontal)):\n",
    "    index=index_left_frontal[i]\n",
    "    pl_frontal[:,i]=phase_lag[:,index[0],index[1]]\n",
    "phase_lag_left_frontal=np.sum(pl_frontal,axis=1)"
   ]
  },
  {
   "cell_type": "code",
   "execution_count": 112,
   "id": "a26a991c",
   "metadata": {},
   "outputs": [
    {
     "data": {
      "text/plain": [
       "3"
      ]
     },
     "execution_count": 112,
     "metadata": {},
     "output_type": "execute_result"
    }
   ],
   "source": [
    "len(index_left_frontal)"
   ]
  },
  {
   "cell_type": "code",
   "execution_count": 100,
   "id": "683d1741",
   "metadata": {},
   "outputs": [
    {
     "data": {
      "text/plain": [
       "array([ 5.24458922,  3.34775756, -3.48472335, -6.97396128, -5.32881407,\n",
       "       -4.72172142, -7.24840974,  0.19342612])"
      ]
     },
     "execution_count": 100,
     "metadata": {},
     "output_type": "execute_result"
    }
   ],
   "source": [
    "phase_lag_left_frontal"
   ]
  },
  {
   "cell_type": "code",
   "execution_count": 96,
   "id": "a1460aa6",
   "metadata": {},
   "outputs": [
    {
     "data": {
      "text/plain": [
       "(8, 3)"
      ]
     },
     "execution_count": 96,
     "metadata": {},
     "output_type": "execute_result"
    }
   ],
   "source": [
    "pl_frontal.shape"
   ]
  },
  {
   "cell_type": "code",
   "execution_count": 76,
   "id": "4b5bc362",
   "metadata": {},
   "outputs": [],
   "source": [
    "left_frontal=[0,2,10]\n",
    "#pl_frontal=np.empty((len(left_frontal))*8)\n",
    "for i in range(len(left_frontal)):\n",
    "    index=index_left_frontal[1]\n",
    "    hhh=np.sum(phase_lag[:,i,iii],axis=1)"
   ]
  },
  {
   "cell_type": "code",
   "execution_count": 79,
   "id": "90939192",
   "metadata": {},
   "outputs": [
    {
     "data": {
      "text/plain": [
       "(8,)"
      ]
     },
     "execution_count": 79,
     "metadata": {},
     "output_type": "execute_result"
    }
   ],
   "source": [
    "hhh.shape"
   ]
  },
  {
   "cell_type": "code",
   "execution_count": 71,
   "id": "77dd7a30",
   "metadata": {},
   "outputs": [],
   "source": [
    "iii=np.array(left_frontal[slice(0,len(left_frontal),1)]) #.reshape(8,(len(left_frontal)))"
   ]
  },
  {
   "cell_type": "code",
   "execution_count": 25,
   "id": "0f7a6408",
   "metadata": {},
   "outputs": [
    {
     "data": {
      "text/plain": [
       "array([34, 36])"
      ]
     },
     "execution_count": 25,
     "metadata": {},
     "output_type": "execute_result"
    }
   ],
   "source": [
    "hh=np.array([32,34,35,36,38,39,40,41,43,44,45,46,48,49,50,51,52,53,54,55,62,63,64,\n",
    "             68,69,70,71,72,73,75,79,80,81,82,83,84,85,86,88,89,90,91,92,93,94,96,97,98])\n",
    "hh[output[1]]"
   ]
  },
  {
   "cell_type": "code",
   "execution_count": null,
   "id": "9b7e2c6d",
   "metadata": {},
   "outputs": [],
   "source": []
  }
 ],
 "metadata": {
  "kernelspec": {
   "display_name": "Python 3",
   "language": "python",
   "name": "python3"
  },
  "language_info": {
   "codemirror_mode": {
    "name": "ipython",
    "version": 3
   },
   "file_extension": ".py",
   "mimetype": "text/x-python",
   "name": "python",
   "nbconvert_exporter": "python",
   "pygments_lexer": "ipython3",
   "version": "3.8.8"
  }
 },
 "nbformat": 4,
 "nbformat_minor": 5
}
