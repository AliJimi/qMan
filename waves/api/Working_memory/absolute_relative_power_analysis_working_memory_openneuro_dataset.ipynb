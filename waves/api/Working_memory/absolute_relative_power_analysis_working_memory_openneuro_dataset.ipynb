{
 "cells": [
  {
   "cell_type": "code",
   "execution_count": 1,
   "id": "e3273a47",
   "metadata": {},
   "outputs": [],
   "source": [
    "import numpy as np\n",
    "from scipy import stats\n",
    "from scipy.stats import norm\n",
    "import scipy.io\n",
    "import scipy.signal as ss\n",
    "import matplotlib.pyplot as plt\n",
    "%matplotlib inline\n",
    "#%matplotlib qt\n",
    "#%gui qt"
   ]
  },
  {
   "cell_type": "code",
   "execution_count": 2,
   "id": "871ea5cf",
   "metadata": {},
   "outputs": [],
   "source": [
    "##gathering cognitive test score of all subjects in on file\n",
    "num_subjects=np.array([32,34,35,36,38,39,40,41,43,44,45,46,47,48,49,50,51,52,53,54,55,56,57,58,59,60,61,62,63,64,65,67,\n",
    "             68,69,70,71,72,73,74,75,76,77,78,79,80,81,82,83,84,85,86,87,88,89,90,91,92,93,94,95,96])\n",
    "cognitive_test_result=np.empty((0,2))\n",
    "for i in range(len(num_subjects)):\n",
    "    cog_test_result=np.load('s'+str(num_subjects[i])+'behaviour_score.npy')\n",
    "    cog_test_result=cog_test_result.reshape((1,cog_test_result.shape[0]))\n",
    "    cognitive_test_result=np.append(cognitive_test_result,cog_test_result,axis=0)\n",
    "    \n",
    "strict_manner=cognitive_test_result[:,0]\n",
    "easy_manner=cognitive_test_result[:,1] \n",
    "strict_manner=stats.zscore(strict_manner)\n",
    "easy_manner=stats.zscore(easy_manner)\n",
    "probibilty_1=norm.pdf(strict_manner)\n",
    "anomaly_cognitive_score=np.argwhere(probibilty_1<(np.mean(probibilty_1)/2))\n",
    "#print(anomaly_cognitive_score)\n",
    "cognitive_score_clean= np.delete(strict_manner,anomaly_cognitive_score)\n",
    "cognitive_score_clean=stats.zscore(cognitive_score_clean) \n",
    "sort_index=np.argsort(cognitive_score_clean)\n",
    "cognitive_score_sorted=np.empty(len(cognitive_score_clean))\n",
    "for index in range(len(cognitive_score_clean)):\n",
    "    cognitive_score_sorted[index]=cognitive_score_clean[sort_index[index]]\n",
    "np.save('cognitive_score',cognitive_score_sorted)\n",
    "np.save('cognitive_score_clean',cognitive_score_clean)"
   ]
  },
  {
   "cell_type": "code",
   "execution_count": 3,
   "id": "d0b033ca",
   "metadata": {},
   "outputs": [],
   "source": [
    "import numpy as np\n",
    "from scipy import stats\n",
    "from scipy.stats import norm\n",
    "import scipy.io\n",
    "import scipy.signal as ss\n",
    "num_subjects=np.array([32,34,35,36,38,39,40,41,43,44,45,46,47,48,49,50,51,52,53,54,55,56,57,58,59,60,61,62,63,64,65,67,\n",
    "             68,69,70,71,72,73,74,75,76,77,78,79,80,81,82,83,84,85,86,87,88,89,90,91,92,93,94,95,96])\n",
    "##gathering power features of all subjects in one file\n",
    "num_subjects_clean= np.delete(num_subjects,anomaly_cognitive_score)\n",
    "power=np.empty((0,1764))\n",
    "\n",
    "for i in range(len(num_subjects_clean)):\n",
    "    cc=np.load('s'+str(num_subjects_clean[i])+'_band_power_all_band_2nd.npy')\n",
    "    cc=cc.reshape((1,1764))\n",
    "    power=np.append(power,cc,axis=0) \n",
    "    \n",
    "##sort features according to sorted lables namely congnitive scores   \n",
    "power_spectral=np.empty((len(num_subjects_clean),1764))\n",
    "for idx in range(len(num_subjects_clean)):\n",
    "    power_spectral[idx,:]=power[sort_index[idx],:]\n",
    "    \n",
    "##deleting some features that are far away from norml distribution\n",
    "anomaly_index=np.array(0)\n",
    "for j in range (1764):\n",
    "    p1=norm.pdf(power_spectral[:,j])\n",
    "    anomaly1=np.argwhere(p1<(np.mean(p1)/50))\n",
    "    if len(anomaly1)>10 :\n",
    "        anomaly_index=np.append(anomaly_index,j)\n",
    "        anomaly_index.astype(int)   \n",
    "power_spectral_del=np.delete(power_spectral,(anomaly_index),1)\n",
    "\n",
    "##replacing features of some subjects which are away from normal distribution with the mean of that feature for all sunjects\n",
    "for j in range (1764-len(anomaly_index)):\n",
    "    p=norm.pdf(power_spectral_del[:,j])\n",
    "    anomaly2=np.argwhere(p<(np.mean(p)/50))\n",
    "    power_spectral_del[[anomaly2],j]=np.mean(power_spectral_del[:,j])\n",
    "    \n",
    "##calculating the z-score  of all features\n",
    "normalized_power=np.empty(((len(num_subjects_clean)),(1764-len(anomaly_index))))\n",
    "for n in range(1764-len(anomaly_index)):\n",
    "    normalized_power[:,n]=stats.zscore(power_spectral_del[:,n])\n",
    "\n",
    "np.save('normalized_power', normalized_power)\n",
    "np.save('num_subjects_clean',num_subjects_clean)"
   ]
  },
  {
   "cell_type": "code",
   "execution_count": 4,
   "id": "da8309bd",
   "metadata": {},
   "outputs": [],
   "source": [
    "import pandas as pd\n",
    "ch=np.asarray(('Fp1','Fz','F3','F7','FT9','FC5','FC1','C3','T7','TP9','CP5','CP1','Pz','P3','P7','O1','Oz','O2','P4','P8','TP10',\n",
    "                  'CP6','CP2','Cz','C4','T8','FT10','FC6','FC2','F4','F8','Fp2','AF7','AF3','AFz','F1','F5','FT7','FC3','C1',\n",
    "                  'C5','TP7','CP3','P1','P5','PO7','PO3','POz','PO4','PO8','P6','P2','CPz','CP4','TP8','C6','C2','FC4','FT8',\n",
    "                  'F6','AF8','AF4','F2'))\n",
    "ch_adress= np.vstack((ch,ch,ch,ch,ch,ch,ch,ch,ch,ch,ch,ch,ch,ch,ch,ch,ch,ch,ch,ch,ch,ch,ch,ch,ch,ch,ch,ch))\n",
    "ch_adress=ch_adress.reshape((1,1764))\n",
    "ch_adress_del=np.empty((0,1448))\n",
    "ch_adress_del=np.delete(ch_adress,(anomaly_index))"
   ]
  },
  {
   "cell_type": "code",
   "execution_count": 5,
   "id": "c1f1b25d",
   "metadata": {},
   "outputs": [],
   "source": [
    "rhytm=np.asarray(('delta','theta','alpha','beta','h_beta','gamma','h_gamma','alpha_1','alpha_2','beta_1','beta_2',\n",
    "               'beta_3','gamma_1','gamma_2','r_delta','r_theta','r_alpha','r_beta','r_h_beta','r_gamma','r_h_gamma',\n",
    "               'r_alpha_1','r_alpha_2','r_beta_1','r_beta_2','r_beta_3','r_gamma_1','r_gamma_2',))\n",
    "rhytm_adress= np.vstack((rhytm,rhytm,rhytm,rhytm,rhytm,rhytm,rhytm,rhytm,rhytm,rhytm,rhytm,rhytm,rhytm,rhytm,rhytm,rhytm,rhytm,rhytm,rhytm,rhytm,\n",
    "                     rhytm,rhytm,rhytm,rhytm,rhytm,rhytm,rhytm,rhytm,rhytm,rhytm,rhytm,rhytm,rhytm,rhytm,rhytm,rhytm,rhytm,rhytm,rhytm,rhytm,\n",
    "                     rhytm,rhytm,rhytm,rhytm,rhytm,rhytm,rhytm,rhytm,rhytm,rhytm,rhytm,rhytm,rhytm,rhytm,rhytm,rhytm,rhytm,rhytm,rhytm,rhytm,\n",
    "                     rhytm,rhytm,rhytm))\n",
    "rhytm_adress=rhytm_adress.T\n",
    "rhytm_adress=rhytm_adress.reshape((1,1764))\n",
    "rhytm_adress_del=np.delete(rhytm_adress,(anomaly_index))"
   ]
  },
  {
   "cell_type": "code",
   "execution_count": 7,
   "id": "e98f5652",
   "metadata": {},
   "outputs": [],
   "source": [
    "address=np.vstack((rhytm_adress_del,ch_adress_del))"
   ]
  },
  {
   "cell_type": "code",
   "execution_count": 7,
   "id": "74ea3dce",
   "metadata": {},
   "outputs": [
    {
     "name": "stdout",
     "output_type": "stream",
     "text": [
      "[[478]\n",
      " [571]\n",
      " [642]\n",
      " [666]\n",
      " [671]\n",
      " [689]]\n"
     ]
    }
   ],
   "source": [
    "pearson_score=np.empty((1764-len(anomaly_index)))\n",
    "for ii in range(1764-len(anomaly_index)):\n",
    "    h1=scipy.stats.pearsonr(cognitive_score_sorted, normalized_power[:,ii])  \n",
    "    corr=h1[0]\n",
    "    pearson_score[ii]=corr\n",
    "significant_corrolations_pearson=np.argwhere(pearson_score>0.4)\n",
    "print(significant_corrolations_pearson)\n",
    "np.save('sig_corr_pearson',significant_corrolations_pearson)"
   ]
  },
  {
   "cell_type": "code",
   "execution_count": 9,
   "id": "d2e1845b",
   "metadata": {},
   "outputs": [
    {
     "name": "stdout",
     "output_type": "stream",
     "text": [
      "['FC4']\n",
      "['P6']\n",
      "['Oz']\n",
      "['CP2']\n",
      "['P1']\n",
      "['P5']\n",
      "['P6']\n",
      "['T7']\n",
      "['TP9']\n",
      "['O1']\n",
      "['F5']\n",
      "['FT7']\n",
      "['C1']\n",
      "['P1']\n",
      "['FT9']\n",
      "['AF7']\n",
      "['Fz']\n",
      "['P2']\n",
      "['Oz']\n",
      "['CP2']\n",
      "['P1']\n",
      "['F5']\n",
      "['CP2']\n",
      "['P6']\n",
      "['P2']\n",
      "['FC4']\n",
      "['O1']\n",
      "['CP2']\n",
      "['P1']\n",
      "['P5']\n",
      "['P6']\n",
      "['T7']\n",
      "['F5']\n",
      "['FT7']\n",
      "['P1']\n",
      "['Fz']\n",
      "['F4']\n",
      "['F8']\n",
      "['F5']\n",
      "['FC4']\n",
      "['FT8']\n",
      "['Fz']\n",
      "['CP2']\n",
      "['Cz']\n",
      "['F4']\n",
      "['P6']\n",
      "['P2']\n",
      "['FC4']\n",
      "['O1']\n",
      "['P1']\n",
      "['P5']\n",
      "['P6']\n",
      "['TP9']\n",
      "['O1']\n",
      "['FT7']\n",
      "['Fz']\n",
      "['F3']\n",
      "['T7']\n",
      "['O1']\n",
      "['CP2']\n",
      "['Cz']\n",
      "['F4']\n",
      "['P2']\n",
      "['FC4']\n"
     ]
    }
   ],
   "source": [
    "for idd in range(len((significant_corrolations_pearson))):\n",
    "    print(ch_adress_del[significant_corrolations_pearson[idd]])"
   ]
  },
  {
   "cell_type": "code",
   "execution_count": 8,
   "id": "b335bcfc",
   "metadata": {},
   "outputs": [
    {
     "name": "stdout",
     "output_type": "stream",
     "text": [
      "['P1']\n",
      "['P5']\n",
      "['P6']\n",
      "['T7']\n",
      "['TP9']\n",
      "['O1']\n",
      "['F5']\n",
      "['FT7']\n",
      "['P1']\n",
      "['AF7']\n",
      "['P6']\n",
      "['TP10']\n",
      "['P6']\n",
      "['CP2']\n",
      "['P5']\n",
      "['P6']\n",
      "['FT7']\n",
      "['P1']\n",
      "['FT8']\n",
      "['Cz']\n",
      "['F4']\n",
      "['P5']\n",
      "['P6']\n",
      "['PO8']\n",
      "['FC2']\n",
      "['CP6']\n",
      "['FT8']\n",
      "['Fz']\n",
      "['CP2']\n",
      "['Cz']\n",
      "['F4']\n",
      "['P2']\n",
      "['FC4']\n",
      "['CP6']\n"
     ]
    }
   ],
   "source": [
    "selected_feature_index=np.load('selected_feature_index.npy')\n",
    "for idd in range(len((selected_feature_index))):\n",
    "    print(ch_adress_del[selected_feature_index[idd]])"
   ]
  },
  {
   "cell_type": "code",
   "execution_count": 26,
   "id": "1161ac0f",
   "metadata": {},
   "outputs": [
    {
     "name": "stdout",
     "output_type": "stream",
     "text": [
      "['delta'] ['FC4'] [0.30437329]\n",
      "['theta'] ['P6'] [0.31167745]\n",
      "['alpha'] ['Oz'] [0.31562802]\n",
      "['alpha'] ['CP2'] [0.32199571]\n",
      "['alpha'] ['P1'] [0.37187161]\n",
      "['alpha'] ['P5'] [0.35490313]\n",
      "['alpha'] ['P6'] [0.36325859]\n",
      "['beta'] ['T7'] [0.32412953]\n",
      "['beta'] ['TP9'] [0.33257528]\n",
      "['beta'] ['O1'] [0.33470013]\n",
      "['beta'] ['F5'] [0.32492472]\n",
      "['beta'] ['FT7'] [0.34092394]\n",
      "['beta'] ['C1'] [0.33096875]\n",
      "['beta'] ['P1'] [0.33626292]\n",
      "['h_beta'] ['FT9'] [0.33175064]\n",
      "['h_beta'] ['AF7'] [0.33362362]\n",
      "['gamma'] ['Fz'] [0.30296307]\n",
      "['gamma'] ['P2'] [0.30535189]\n",
      "['h_gamma'] ['Oz'] [0.3124221]\n",
      "['h_gamma'] ['CP2'] [0.31015459]\n",
      "['h_gamma'] ['P1'] [0.3115725]\n",
      "['alpha_2'] ['F5'] [0.30791985]\n",
      "['beta_1'] ['CP2'] [0.30649008]\n",
      "['beta_1'] ['P6'] [0.42435554]\n",
      "['beta_1'] ['P2'] [0.33545546]\n",
      "['beta_1'] ['FC4'] [0.31830529]\n",
      "['beta_2'] ['O1'] [0.32389855]\n",
      "['beta_2'] ['CP2'] [0.35094067]\n",
      "['beta_2'] ['P1'] [0.31047732]\n",
      "['beta_2'] ['P5'] [0.33047217]\n",
      "['beta_2'] ['P6'] [0.31969326]\n",
      "['beta_3'] ['T7'] [0.31458506]\n",
      "['beta_3'] ['F5'] [0.35087329]\n",
      "['beta_3'] ['FT7'] [0.40902241]\n",
      "['beta_3'] ['P1'] [0.39447117]\n",
      "['gamma_1'] ['Fz'] [0.31867376]\n",
      "['gamma_1'] ['F4'] [0.32797816]\n",
      "['gamma_1'] ['F8'] [0.35417615]\n",
      "['gamma_1'] ['F5'] [0.35639686]\n",
      "['gamma_1'] ['FC4'] [0.32107178]\n",
      "['gamma_1'] ['FT8'] [0.42012388]\n",
      "['gamma_2'] ['Fz'] [0.31361821]\n",
      "['gamma_2'] ['CP2'] [0.33826155]\n",
      "['gamma_2'] ['Cz'] [0.42852582]\n",
      "['gamma_2'] ['F4'] [0.44392487]\n",
      "['gamma_2'] ['P6'] [0.4275299]\n",
      "['gamma_2'] ['P2'] [0.34780814]\n",
      "['gamma_2'] ['FC4'] [0.35996636]\n",
      "['r_delta'] ['O1'] [0.32171433]\n",
      "['r_delta'] ['P1'] [0.32512712]\n",
      "['r_delta'] ['P5'] [0.37415595]\n",
      "['r_delta'] ['P6'] [0.3937969]\n",
      "['r_theta'] ['TP9'] [0.32047369]\n",
      "['r_theta'] ['O1'] [0.35003089]\n",
      "['r_theta'] ['FT7'] [0.30614403]\n",
      "['r_alpha'] ['Fz'] [0.31838353]\n",
      "['r_alpha'] ['F3'] [0.32628942]\n",
      "['r_alpha'] ['T7'] [0.35389369]\n",
      "['r_gamma'] ['O1'] [0.30862524]\n",
      "['r_beta_3'] ['CP2'] [0.30346207]\n",
      "['r_beta_3'] ['Cz'] [0.30757468]\n",
      "['r_beta_3'] ['F4'] [0.31933674]\n",
      "['r_beta_3'] ['P2'] [0.32997782]\n",
      "['r_beta_3'] ['FC4'] [0.32660604]\n"
     ]
    }
   ],
   "source": [
    "for idd in range(len((significant_corrolations_pearson))):\n",
    "    print((rhytm_adress_del[significant_corrolations_pearson[idd]]),\n",
    "          (ch_adress_del[significant_corrolations_pearson[idd]]),\n",
    "          (pearson_score[significant_corrolations_pearson[idd]]))"
   ]
  },
  {
   "cell_type": "code",
   "execution_count": 125,
   "id": "de355a81",
   "metadata": {},
   "outputs": [
    {
     "name": "stdout",
     "output_type": "stream",
     "text": [
      "[0.30437329]\n",
      "[0.31167745]\n",
      "[0.31562802]\n",
      "[0.32199571]\n",
      "[0.37187161]\n",
      "[0.35490313]\n",
      "[0.36325859]\n",
      "[0.32412953]\n",
      "[0.33257528]\n",
      "[0.33470013]\n",
      "[0.32492472]\n",
      "[0.34092394]\n",
      "[0.33096875]\n",
      "[0.33626292]\n",
      "[0.33175064]\n",
      "[0.33362362]\n",
      "[0.30296307]\n",
      "[0.30535189]\n",
      "[0.3124221]\n",
      "[0.31015459]\n",
      "[0.3115725]\n",
      "[0.30791985]\n",
      "[0.30649008]\n",
      "[0.42435554]\n",
      "[0.33545546]\n",
      "[0.31830529]\n",
      "[0.32389855]\n",
      "[0.35094067]\n",
      "[0.31047732]\n",
      "[0.33047217]\n",
      "[0.31969326]\n",
      "[0.31458506]\n",
      "[0.35087329]\n",
      "[0.40902241]\n",
      "[0.39447117]\n",
      "[0.31867376]\n",
      "[0.32797816]\n",
      "[0.35417615]\n",
      "[0.35639686]\n",
      "[0.32107178]\n",
      "[0.42012388]\n",
      "[0.31361821]\n",
      "[0.33826155]\n",
      "[0.42852582]\n",
      "[0.44392487]\n",
      "[0.4275299]\n",
      "[0.34780814]\n",
      "[0.35996636]\n",
      "[0.32171433]\n",
      "[0.32512712]\n",
      "[0.37415595]\n",
      "[0.3937969]\n",
      "[0.32047369]\n",
      "[0.35003089]\n",
      "[0.30614403]\n",
      "[0.31838353]\n",
      "[0.32628942]\n",
      "[0.35389369]\n",
      "[0.30862524]\n",
      "[0.30346207]\n",
      "[0.30757468]\n",
      "[0.31933674]\n",
      "[0.32997782]\n",
      "[0.32660604]\n"
     ]
    }
   ],
   "source": [
    "for idd in range(len((significant_corrolations_pearson))):\n",
    "    print((pearson_score[significant_corrolations_pearson[idd]]))"
   ]
  },
  {
   "cell_type": "code",
   "execution_count": 16,
   "id": "679f2922",
   "metadata": {},
   "outputs": [
    {
     "name": "stdout",
     "output_type": "stream",
     "text": [
      "[[671]\n",
      " [689]\n",
      " [695]]\n"
     ]
    }
   ],
   "source": [
    "vv=np.empty(1764-len(anomaly_index))\n",
    "for ii in range(1764-len(anomaly_index)):\n",
    "    h1=scipy.stats.mstats.spearmanr(cognitive_score_sorted, normalized_power[:,ii])  \n",
    "    corr=h1[0]\n",
    "    vv[ii]=corr\n",
    "    \n",
    "signif_spearmanr=np.argwhere(vv>0.4)\n",
    "print(signif_spearmanr)"
   ]
  },
  {
   "cell_type": "code",
   "execution_count": 113,
   "id": "2103f7df",
   "metadata": {},
   "outputs": [
    {
     "name": "stdout",
     "output_type": "stream",
     "text": [
      "['F4'] ['gamma_2']\n",
      "['P6'] ['gamma_2']\n",
      "['FC4'] ['gamma_2']\n"
     ]
    }
   ],
   "source": [
    "for idd in range(len((signif_spearmanr))):\n",
    "    print((ch_adress_del[signif_spearmanr[idd]]),(rhytm_adress_del[signif_spearmanr[idd]]))"
   ]
  },
  {
   "cell_type": "code",
   "execution_count": 8,
   "id": "9b8b0779",
   "metadata": {},
   "outputs": [
    {
     "data": {
      "image/png": "[encoded data removed]",
      "text/plain": [
       "<Figure size 432x288 with 1 Axes>"
      ]
     },
     "metadata": {
      "needs_background": "light"
     },
     "output_type": "display_data"
    }
   ],
   "source": [
    "fig = plt.figure()\n",
    "# Creating subplot/axes\n",
    "ax = fig.add_subplot(111)\n",
    "# Setting axes/plot title\n",
    "ax.set_title('126th feature vs cognitive test score')\n",
    "plt.plot(range(1,(len(cognitive_score_sorted)+1),1),normalized_power[:,478], cognitive_score_sorted)\n",
    "# Setting X-axis and Y-axis labels\n",
    "ax.set_ylabel('v^2')\n",
    "ax.set_xlabel('number of subject')\n",
    "ax.legend(['126th feature', 'cognitive test score'])\n",
    "#plt. locator_params(nbins = 100)\n",
    "plt.grid()\n",
    "# Showing the plot\n",
    "plt.show()\n"
   ]
  },
  {
   "cell_type": "code",
   "execution_count": 9,
   "id": "cfb86e9c",
   "metadata": {},
   "outputs": [
    {
     "data": {
      "image/png": "[encoded data removed]",
      "text/plain": [
       "<Figure size 432x288 with 1 Axes>"
      ]
     },
     "metadata": {
      "needs_background": "light"
     },
     "output_type": "display_data"
    }
   ],
   "source": [
    "fig = plt.figure()\n",
    "# Creating subplot/axes\n",
    "ax = fig.add_subplot(111)\n",
    "# Setting axes/plot title\n",
    "ax.set_title('126th feature vs cognitive test score')\n",
    "plt.plot(cognitive_score_sorted,normalized_power[:,478])\n",
    "# Setting X-axis and Y-axis labels\n",
    "ax.set_ylabel('v^2')\n",
    "ax.set_xlabel('number of subject')\n",
    "ax.legend(['126th feature', 'cognitive test score'])\n",
    "#plt. locator_params(nbins = 100)\n",
    "plt.grid()\n",
    "# Showing the plot\n",
    "plt.show()\n"
   ]
  },
  {
   "cell_type": "code",
   "execution_count": 25,
   "id": "f0a00c98",
   "metadata": {},
   "outputs": [
    {
     "name": "stdout",
     "output_type": "stream",
     "text": [
      "0.5189157842204732 -0.04549773679420732\n",
      "0.5189157842204732 <function r2_score at 0x000001CDACF32040>\n"
     ]
    }
   ],
   "source": [
    "from sklearn.metrics import mean_squared_error, r2_score\n",
    "from sys import stdout\n",
    "import matplotlib.pyplot as plt\n",
    "from scipy.signal import savgol_filter\n",
    "from sklearn.cross_decomposition import PLSRegression\n",
    "from sklearn.model_selection import cross_val_predict\n",
    "from sklearn.metrics import mean_squared_error, r2_score\n",
    "# Define PLS object\n",
    "pls = PLSRegression(n_components=1) \n",
    "# Fit\n",
    "pls.fit(normalized_power[:,[784]], cog_test)\n",
    "# Cross-validation\n",
    "y_cv = cross_val_predict(pls,normalized_power[:,[814]], cog_test, cv=10)\n",
    "# Calculate scores\n",
    "score = r2_score(cog_test, y_cv)\n",
    "mse = mean_squared_error(cog_test, y_cv)\n",
    "print(mse, score)\n",
    "from sklearn.metrics import r2_score\n",
    "fig = plt.figure()\n",
    "# Creating subplot/axes\n",
    "ax = fig.add_subplot(111)\n",
    "# Setting axes/plot title\n",
    "ax.set_title('pls_regression')\n",
    "plt.plot(range(1,(len(cog_test)+1),1), cog_test, y_cv)\n",
    "# Setting X-axis and Y-axis labels\n",
    "ax.set_ylabel('Y-Axis Label')\n",
    "ax.set_xlabel('X-Axis Label')\n",
    "plt. locator_params(nbins = 100)\n",
    "plt.grid()\n",
    "# Showing the plot\n",
    "plt.show()\n",
    "print(mse, r2_score)"
   ]
  },
  {
   "cell_type": "code",
   "execution_count": 46,
   "id": "ffbbca86",
   "metadata": {},
   "outputs": [
    {
     "name": "stdout",
     "output_type": "stream",
     "text": [
      "0.8729502281051457 -0.7587969292337986\n",
      "0.8729502281051457 <function r2_score at 0x00000225F8C8DA60>\n"
     ]
    }
   ],
   "source": [
    "from sklearn.linear_model import LinearRegression\n",
    "from sklearn.metrics import r2_score\n",
    "from sklearn.metrics import mean_squared_error\n",
    "# creating an object of LinearRegression class\n",
    "LR = LinearRegression()\n",
    "# fitting the training data\n",
    "LR.fit(normalized_power,cog_test)\n",
    "y_cv = cross_val_predict(LR,normalized_power, cog_test, cv=10)\n",
    "# predicting the accuracy scor10\n",
    "score=r2_score(cog_test,y_cv)\n",
    "mse=mean_squared_error(cog_test,y_cv)\n",
    "print(mse, score)\n",
    "\n",
    "\n",
    "fig = plt.figure()\n",
    "\n",
    "# Creating subplot/axes\n",
    "ax = fig.add_subplot(111)\n",
    "\n",
    "# Setting axes/plot title\n",
    "ax.set_title('linear_regression')\n",
    "plt.plot(range(1,(len(cog_test)+1),1), cog_test, y_cv)\n",
    "# Setting X-axis and Y-axis labels\n",
    "ax.set_ylabel('Y-Axis Label')\n",
    "ax.set_xlabel('X-Axis Label')\n",
    "\n",
    "# Showing the plot\n",
    "plt.show()\n",
    "print(mse,r2_score)"
   ]
  },
  {
   "cell_type": "code",
   "execution_count": 45,
   "id": "72e58985",
   "metadata": {},
   "outputs": [
    {
     "name": "stdout",
     "output_type": "stream",
     "text": [
      "3.895704417832788 -6.848961769744296\n"
     ]
    }
   ],
   "source": [
    "# importing libraries for polynomial transform\n",
    "from sklearn.linear_model import LinearRegression\n",
    "from sklearn.preprocessing import PolynomialFeatures\n",
    "# for creating pipeline\n",
    "from sklearn.pipeline import Pipeline\n",
    "# creating pipeline and fitting it on data\n",
    "Input=[('polynomial',PolynomialFeatures(degree=2)),('modal',LinearRegression())]\n",
    "pipe=Pipeline(Input)\n",
    "pipe.fit(normalized_power,cog_test.reshape(-1,1))\n",
    "y_cv = cross_val_predict(pipe,normalized_power,cog_test, cv=5)\n",
    "# predicting the accuracy score\n",
    "score=r2_score(cog_test,y_cv)\n",
    "mse=mean_squared_error(cog_test,y_cv)\n",
    "print(mse, score)\n",
    "\n",
    "fig = plt.figure()\n",
    "# Setting axes/plot title\n",
    "\n",
    "# Creating subplot/axes\n",
    "ax = fig.add_subplot(111)\n",
    "ax.set_title('polynomial_regression')\n",
    "plt.plot(range(1,(len(cog_test)+1),1), cog_test, y_cv)\n",
    "# Showing the plot\n",
    "plt.show()"
   ]
  },
  {
   "cell_type": "code",
   "execution_count": 14,
   "id": "020d843b",
   "metadata": {},
   "outputs": [
    {
     "data": {
      "text/plain": [
       "(61, 2)"
      ]
     },
     "execution_count": 14,
     "metadata": {},
     "output_type": "execute_result"
    }
   ],
   "source": [
    "cog_test_devision=cognitive_test_result*10\n",
    "cog_test_devision.shape"
   ]
  },
  {
   "cell_type": "code",
   "execution_count": 16,
   "id": "4dbebefd",
   "metadata": {},
   "outputs": [],
   "source": [
    "cls1=()\n",
    "cls2=()\n",
    "cls3=()\n",
    "\n",
    "for i in range(61) :\n",
    "    x=cog_test_devision[i,1]\n",
    "    if x<=3:\n",
    "        cls1=np.append(cls1,i)\n",
    "    if 7>x>3:\n",
    "        cls2=np.append(cls2,i)\n",
    "    else:\n",
    "        cls3=np.append(cls3,i)\n",
    "        "
   ]
  },
  {
   "cell_type": "code",
   "execution_count": 18,
   "id": "f85a7113",
   "metadata": {},
   "outputs": [
    {
     "data": {
      "text/plain": [
       "()"
      ]
     },
     "execution_count": 18,
     "metadata": {},
     "output_type": "execute_result"
    }
   ],
   "source": [
    "cls1"
   ]
  },
  {
   "cell_type": "code",
   "execution_count": 19,
   "id": "78f20bad",
   "metadata": {},
   "outputs": [
    {
     "data": {
      "text/plain": [
       "array([ 0.,  2.,  3.,  4.,  5.,  6.,  7.,  8.,  9., 10., 11., 12., 13.,\n",
       "       14., 15., 16., 17., 18., 19., 20., 21., 22., 23., 24., 25., 26.,\n",
       "       27., 28., 29., 30., 31., 32., 33., 34., 35., 36., 37., 38., 40.,\n",
       "       41., 42., 43., 44., 45., 46., 47., 48., 49., 50., 51., 52., 53.,\n",
       "       54., 55., 56., 57., 58., 59., 60.])"
      ]
     },
     "execution_count": 19,
     "metadata": {},
     "output_type": "execute_result"
    }
   ],
   "source": [
    "cls2"
   ]
  },
  {
   "cell_type": "code",
   "execution_count": 23,
   "id": "9167f703",
   "metadata": {},
   "outputs": [
    {
     "data": {
      "text/plain": [
       "array([6.81703071, 7.36071542, 5.57708135, 3.3099082 , 4.29455524,\n",
       "       6.28505856, 6.81386515, 5.57708135, 5.24849636, 5.85802469,\n",
       "       4.66445078, 5.31212409, 5.19484014, 5.43304843, 6.09465021,\n",
       "       5.57439063, 6.28917379, 4.36024058, 5.11095283, 5.32541944,\n",
       "       4.59085154, 4.73646724, 6.60826211, 5.81718898, 4.98448876,\n",
       "       5.87274454, 4.58768598, 5.81244065, 5.2532447 , 3.95077556,\n",
       "       6.54685027, 5.5954416 , 6.48733777, 5.46612852, 4.71573283,\n",
       "       6.13152896, 4.93352327, 3.91168091, 4.85675847, 7.27856917,\n",
       "       5.99540994, 4.4985755 , 4.84694524, 5.47894903, 6.09670782,\n",
       "       4.84836974, 4.5982906 , 5.86752137, 6.05729661, 4.9555239 ,\n",
       "       5.03640393, 3.91737892, 6.36578031, 6.12250712, 4.86451409,\n",
       "       5.71462488, 5.30246914, 6.39965179, 5.75451092, 5.48733777,\n",
       "       6.75688509])"
      ]
     },
     "execution_count": 23,
     "metadata": {},
     "output_type": "execute_result"
    }
   ],
   "source": [
    "cog_test_devision[:,1]"
   ]
  },
  {
   "cell_type": "code",
   "execution_count": 8,
   "id": "7d637010",
   "metadata": {},
   "outputs": [],
   "source": []
  },
  {
   "cell_type": "code",
   "execution_count": null,
   "id": "ead529be",
   "metadata": {},
   "outputs": [],
   "source": []
  },
  {
   "cell_type": "code",
   "execution_count": 3,
   "id": "a37de387",
   "metadata": {},
   "outputs": [
    {
     "data": {
      "text/plain": [
       "(63,)"
      ]
     },
     "execution_count": 3,
     "metadata": {},
     "output_type": "execute_result"
    }
   ],
   "source": [
    "'Fp1','Fz','F3','F7','FT9','FC5','FC1','C3','T7','TP9','CP5','CP1','Pz','P3','P7','O1','Oz','O2','P4','P8','TP10',\n",
    "  0    1    2    3     4     5     6     7    8    9     10    11   12   13   14   15   16   17   18   19    20\n",
    "    \n",
    "'CP6','CP2','Cz','C4','T8','FT10','FC6','FC2','F4','F8','Fp2','AF7','AF3','AFz','F1','F5','FT7','FC3','C1',\n",
    "  21    22   23   24   25    26     27   28    29   30   31    32     33   34    35   36    37   38    39\n",
    "    \n",
    "'C5','TP7','CP3','P1','P5','PO7','PO3','POz','PO4','PO8','P6','P2','CPz','CP4','TP8','C6','C2','FC4','FT8',\n",
    "40     41    42   43   44   45    46    47    48     49   50   51    52   53     54   55   56   57     58\n",
    "\n",
    "'F6','AF8','AF4','F2'))\n",
    "  59   60   61     62"
   ]
  },
  {
   "cell_type": "code",
   "execution_count": null,
   "id": "83eb88da",
   "metadata": {},
   "outputs": [],
   "source": []
  }
 ],
 "metadata": {
  "kernelspec": {
   "display_name": "Python 3",
   "language": "python",
   "name": "python3"
  },
  "language_info": {
   "codemirror_mode": {
    "name": "ipython",
    "version": 3
   },
   "file_extension": ".py",
   "mimetype": "text/x-python",
   "name": "python",
   "nbconvert_exporter": "python",
   "pygments_lexer": "ipython3",
   "version": "3.8.8"
  }
 },
 "nbformat": 4,
 "nbformat_minor": 5
}
