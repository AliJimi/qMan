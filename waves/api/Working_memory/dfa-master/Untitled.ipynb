{
 "cells": [
  {
   "cell_type": "code",
   "execution_count": 1,
   "id": "d0ccf318",
   "metadata": {},
   "outputs": [
    {
     "name": "stdout",
     "output_type": "stream",
     "text": [
      "Reading D:\\jupyter_folder\\Razin_code\\dfa-master\\sub-001-eeg-sub-001_task-AudioCueWalkingStudy_run-02_eeg.fdt\n"
     ]
    },
    {
     "name": "stderr",
     "output_type": "stream",
     "text": [
      "<ipython-input-1-9f59ed4b81f0>:17: RuntimeWarning: Data file name in EEG.data (sub-001_task-AudioCueWalkingStudy_run-02_eeg.fdt) is incorrect, the file name must have changed on disk, using the correct file name (sub-001-eeg-sub-001_task-AudioCueWalkingStudy_run-02_eeg.fdt).\n",
      "  rawww= mne.io.read_raw_eeglab('sub-001-eeg-sub-001_task-AudioCueWalkingStudy_run-02_eeg.set')\n"
     ]
    },
    {
     "name": "stdout",
     "output_type": "stream",
     "text": [
      "Used Annotations descriptions: ['100', '101', '103', '109', '113', '114', '119', '151', '153', '159', '200', '201', '203', '209', '251', '253', '259', '333', '444', '999']\n"
     ]
    }
   ],
   "source": [
    "import scipy.io\n",
    "import scipy.signal as signal\n",
    "from scipy.signal import butter, lfilter\n",
    "import numpy as np\n",
    "import pandas as pd\n",
    "from mne.preprocessing import ICA\n",
    "from mne.channels import make_standard_montage\n",
    "%matplotlib qt\n",
    "%gui qt\n",
    "from time import time\n",
    "from matplotlib import pyplot as plt\n",
    "import mne\n",
    "from mne.preprocessing import corrmap\n",
    "from mne.preprocessing import find_eog_events, regress_artifact\n",
    "from mne.datasets import sample\n",
    "from mne.viz import plot_raw\n",
    "rawww= mne.io.read_raw_eeglab('sub-001-eeg-sub-001_task-AudioCueWalkingStudy_run-02_eeg.set')\n",
    "raww=rawww.set_channel_types({'TIBR1': 'emg'})\n",
    "raww=rawww.set_channel_types({'TIBR2': 'emg'})\n",
    "raww=rawww.set_channel_types({'TIBL1': 'emg'})\n",
    "raww=rawww.set_channel_types({'TIBL2': 'emg'})\n",
    "raww=rawww.set_channel_types({'HIP': 'emg'})\n",
    "raww=rawww.set_channel_types({'KNEE': 'emg'})\n",
    "raww=rawww.set_channel_types({'ANKLE': 'emg'})\n",
    "raw=raww.pick_types( eeg=True, emg=False) \n",
    "all_events, all_event_id = mne.events_from_annotations(raw)"
   ]
  },
  {
   "cell_type": "code",
   "execution_count": 2,
   "id": "b7cdf8e6",
   "metadata": {},
   "outputs": [
    {
     "name": "stdout",
     "output_type": "stream",
     "text": [
      "Not setting metadata\n",
      "Not setting metadata\n",
      "32 matching events found\n",
      "Applying baseline correction (mode: mean)\n",
      "0 projection items activated\n",
      "Loading data for 8 events and 1537 original time points ...\n",
      "0 bad epochs dropped\n",
      "Loading data for 16 events and 1537 original time points ...\n",
      "0 bad epochs dropped\n",
      "Loading data for 8 events and 1537 original time points ...\n",
      "0 bad epochs dropped\n"
     ]
    }
   ],
   "source": [
    "my_events= mne.pick_events(all_events, include=[18, 19, 20])\n",
    "epochs = mne.Epochs(raw,my_events, tmin=0.0, tmax=3.0, baseline=(0, 0))\n",
    "data_3=epochs['18']\n",
    "data_4=epochs['19']\n",
    "data_9=epochs['20']\n",
    "\n",
    "data_33=data_3.to_data_frame()\n",
    "data_44=data_4.to_data_frame()\n",
    "data_99=data_9.to_data_frame()\n",
    "\n",
    "data_33.drop('time', axis=1, inplace=True)\n",
    "data_33.drop('condition', axis=1, inplace=True)\n",
    "data_33.drop('epoch', axis=1, inplace=True)\n",
    "data_33.drop([0],axis=0,inplace=True)\n",
    "\n",
    "data_44.drop('time', axis=1, inplace=True)\n",
    "data_44.drop('condition', axis=1, inplace=True)\n",
    "data_44.drop('epoch', axis=1, inplace=True)\n",
    "data_44.drop([0],axis=0,inplace=True)\n",
    "\n",
    "data_99.drop('time', axis=1, inplace=True)\n",
    "data_99.drop('condition', axis=1, inplace=True)\n",
    "data_99.drop('epoch', axis=1, inplace=True)\n",
    "data_99.drop([0],axis=0,inplace=True)\n",
    "\n",
    "data_333=data_33.to_numpy()\n",
    "data_444=data_44.to_numpy()\n",
    "data_999=data_99.to_numpy()\n",
    "\n",
    "culmn_3 , row_3 =data_333.shape\n",
    "culmn_4 , row_4 =data_444.shape\n",
    "culmn_9, row_9=data_999.shape\n",
    "\n",
    "eeg_333=np.empty([row_3,culmn_3])\n",
    "eeg_444=np.empty([row_4,culmn_4])\n",
    "eeg_999=np.empty([row_9,culmn_9])\n",
    "\n",
    "eeg3=np.reshape(data_333,(row_3,culmn_3))\n",
    "eeg4=np.reshape(data_444,(row_4,culmn_4))\n",
    "eeg9=np.reshape(data_999,(row_9,culmn_9))"
   ]
  },
  {
   "cell_type": "code",
   "execution_count": 11,
   "id": "e73280e1",
   "metadata": {},
   "outputs": [],
   "source": [
    "def butter_bandpass(lowcut, highcut, fs, order=5):\n",
    "    nyq = 0.5 * fs\n",
    "    low = lowcut / nyq\n",
    "    high = highcut / nyq\n",
    "    b, a = butter(order, [low, high], btype='band')\n",
    "    return b, a\n",
    "def butter_bandpass_filter(data, lowcut, highcut, fs, order=5):\n",
    "    b, a = butter_bandpass(lowcut, highcut, fs, order=order)\n",
    "    y = lfilter(b, a, data)\n",
    "    return y\n",
    "\n",
    "filsig_eeg = butter_bandpass_filter(eeg3, 4.5, 6.5, 250, order=5) \n"
   ]
  },
  {
   "cell_type": "code",
   "execution_count": 12,
   "id": "e7a5c78d",
   "metadata": {},
   "outputs": [],
   "source": [
    "x=filsig_eeg[3]"
   ]
  },
  {
   "cell_type": "code",
   "execution_count": 13,
   "id": "90b54dc6",
   "metadata": {},
   "outputs": [
    {
     "name": "stderr",
     "output_type": "stream",
     "text": [
      "<ipython-input-13-36b915ca1b2f>:70: DeprecationWarning: `np.int` is a deprecated alias for the builtin `int`. To silence this warning, use `int` by itself. Doing this will not modify any behavior and is safe. When replacing `np.int`, you may wish to use e.g. `np.int64` or `np.int32` to specify the precision. If you wish to review your current use, check the release note link for additional information.\n",
      "Deprecated in NumPy 1.20; for more details and guidance: https://numpy.org/devdocs/release/1.20.0-notes.html#deprecations\n",
      "  scales = (2**np.arange(scale_lim[0], scale_lim[1], scale_dens)).astype(np.int)\n"
     ]
    },
    {
     "name": "stdout",
     "output_type": "stream",
     "text": [
      "[ 32  34  38  41  45  49  54  59  65  71  77  84  92 101 110 121 132 144\n",
      " 158 172 188 206 225 246 269 294 321 351 383 419 458 500]\n",
      "[ 5.94426418  6.74764748  8.21443482  9.33900792 11.20066955 13.19420511\n",
      " 18.72224098 17.58456817 21.10828743 23.63294271 27.36654255 29.64463696\n",
      " 33.7075092  37.89985541 41.75919668 45.02539626 47.9196058  50.91050135\n",
      " 47.45996113 54.92766649 52.40203782 53.26353905 54.92041518 58.62322224\n",
      " 61.64781689 69.0863891  71.2963617  71.43589123 75.68450567 77.64978659\n",
      " 84.88860865 90.92616735]\n",
      "DFA exponent: 0.9027541505883351\n"
     ]
    }
   ],
   "source": [
    "import numpy as np\n",
    "import matplotlib.pyplot as plt\n",
    "import scipy.signal as ss\n",
    "\n",
    "# detrended fluctuation analysis\n",
    "\n",
    "def calc_rms(x, scale):\n",
    "    \"\"\"\n",
    "    windowed Root Mean Square (RMS) with linear detrending.\n",
    "    \n",
    "    Args:\n",
    "    -----\n",
    "      *x* : numpy.array\n",
    "        one dimensional data vector\n",
    "      *scale* : int\n",
    "        length of the window in which RMS will be calculaed\n",
    "    Returns:\n",
    "    --------\n",
    "      *rms* : numpy.array\n",
    "        RMS data in each window with length len(x)//scale\n",
    "    \"\"\"\n",
    "    # making an array with data divided in windows\n",
    "    shape = (x.shape[0]//scale, scale)\n",
    "    X = np.lib.stride_tricks.as_strided(x,shape=shape)\n",
    "    # vector of x-axis points to regression\n",
    "    scale_ax = np.arange(scale)\n",
    "    rms = np.zeros(X.shape[0])\n",
    "    for e, xcut in enumerate(X):\n",
    "        coeff = np.polyfit(scale_ax, xcut, 1)\n",
    "        xfit = np.polyval(coeff, scale_ax)\n",
    "        # detrending and computing RMS of each window\n",
    "        rms[e] = np.sqrt(np.mean((xcut-xfit)**2))\n",
    "    return rms\n",
    "\n",
    "def dfa(x, scale_lim=[5,9], scale_dens=0.128, show=False):\n",
    "    \"\"\"\n",
    "    Detrended Fluctuation Analysis - measures power law scaling coefficient\n",
    "    of the given signal *x*.\n",
    "\n",
    "    More details about the algorithm you can find e.g. here:\n",
    "    Hardstone, R. et al. Detrended fluctuation analysis: A scale-free \n",
    "    view on neuronal oscillations, (2012).\n",
    "\n",
    "    Args:\n",
    "    -----\n",
    "      *x* : numpy.array\n",
    "        one dimensional data vector\n",
    "      *scale_lim* = [5,9] : list of length 2 \n",
    "        boundaries of the scale, where scale means windows among which RMS\n",
    "        is calculated. Numbers from list are exponents of 2 to the power\n",
    "        of X, eg. [5,9] is in fact [2**5, 2**9].\n",
    "        You can think of it that if your signal is sampled with F_s = 128 Hz,\n",
    "        then the lowest considered scale would be 2**5/128 = 32/128 = 0.128,\n",
    "        so 250 ms.\n",
    "      *scale_dens* = 0.25 : float\n",
    "        density of scale divisions, eg. for 0.25 we get 2**[5, 5.25, 5.5, ... ] \n",
    "      *show* = False\n",
    "        if True it shows matplotlib log-log plot.\n",
    "    Returns:\n",
    "    --------\n",
    "      *scales* : numpy.array\n",
    "        vector of scales (x axis)\n",
    "      *fluct* : numpy.array\n",
    "        fluctuation function values (y axis)\n",
    "      *alpha* : float\n",
    "        estimation of DFA exponent\n",
    "    \"\"\"\n",
    "    # cumulative sum of data with substracted offset\n",
    "    y = np.cumsum(x - np.mean(x))\n",
    "    scales = (2**np.arange(scale_lim[0], scale_lim[1], scale_dens)).astype(np.int)\n",
    "    fluct = np.zeros(len(scales))\n",
    "    # computing RMS for each window\n",
    "    for e, sc in enumerate(scales):\n",
    "        fluct[e] = np.sqrt(np.mean(calc_rms(y, sc)**2))\n",
    "    # fitting a line to rms data\n",
    "    coeff = np.polyfit(np.log2(scales), np.log2(fluct), 1)\n",
    "    if show:\n",
    "        fluctfit = 2**np.polyval(coeff,np.log2(scales))\n",
    "        plt.loglog(scales, fluct, 'bo')\n",
    "        plt.loglog(scales, fluctfit, 'r', label=r'$\\alpha$ = %0.2f'%coeff[0])\n",
    "        plt.title('DFA')\n",
    "        plt.xlabel(r'$\\log_{10}$(time window)')\n",
    "        plt.ylabel(r'$\\log_{10}$<F(t)>')\n",
    "        plt.legend()\n",
    "        plt.show()\n",
    "    return scales, fluct, coeff[0]\n",
    "\n",
    "\n",
    "#if __name__=='__main__':\n",
    " #   n = 1000\n",
    " #   x = np.random.randn(n)\n",
    "    # computing DFA of signal envelope\n",
    "  #  x = np.abs(ss.hilbert(x))\n",
    "  #  scales, fluct, alpha = dfa(x, show=1)\n",
    "  #  print(scales)\n",
    "   # print(fluct)\n",
    "   # print(\"DFA exponent: {}\".format(alpha))\n",
    "\n",
    "if __name__=='__main__':\n",
    "    n = 1000\n",
    "    # computing DFA of signal envelope\n",
    "    x = np.abs(ss.hilbert(x))\n",
    "    scales, fluct, alpha = dfa(x, show=1)\n",
    "    print(scales)\n",
    "    print(fluct)\n",
    "    print(\"DFA exponent: {}\".format(alpha))\n"
   ]
  },
  {
   "cell_type": "code",
   "execution_count": null,
   "id": "91194c86",
   "metadata": {},
   "outputs": [],
   "source": []
  }
 ],
 "metadata": {
  "kernelspec": {
   "display_name": "Python 3",
   "language": "python",
   "name": "python3"
  },
  "language_info": {
   "codemirror_mode": {
    "name": "ipython",
    "version": 3
   },
   "file_extension": ".py",
   "mimetype": "text/x-python",
   "name": "python",
   "nbconvert_exporter": "python",
   "pygments_lexer": "ipython3",
   "version": "3.8.8"
  }
 },
 "nbformat": 4,
 "nbformat_minor": 5
}
