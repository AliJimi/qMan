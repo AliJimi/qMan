{
 "cells": [
  {
   "cell_type": "code",
   "execution_count": 1,
   "id": "6172ef9f",
   "metadata": {},
   "outputs": [],
   "source": [
    "import numpy as np\n",
    "import scipy.io\n",
    "import scipy.signal as ss\n",
    "sampling_rate = 250"
   ]
  },
  {
   "cell_type": "code",
   "execution_count": 3,
   "id": "2c872cd2",
   "metadata": {},
   "outputs": [],
   "source": [
    "num_subjects=np.array([35, 39, 41, 43, 44, 45, 46, 47, 48, 49, 50, 51, 52, 53, 54, 55, 56,\n",
    "                       57, 58, 59, 60, 61, 62, 63, 65, 67, 68, 69, 70, 71, 72, 74, 76, 77,\n",
    "                       78, 79, 80, 81, 82, 83, 84, 85, 86, 88, 89, 90, 91, 92, 93, 94, 95])\n",
    "for i in range(len(num_subjects)):\n",
    "    data= np.load('s'+str(num_subjects[i])+'_clean_resting_state_2nd.npy')\n",
    "    coherence=np.empty((126,63,63))\n",
    "    for jj in range(63):\n",
    "        for j in range(63):\n",
    "            ch_m=data[jj,:]\n",
    "            ch_n=data[j,:]\n",
    "            power_f=np.log(np.mean(np.abs(ch_m**2)))\n",
    "            power_ff=np.log(np.mean(np.abs(ch_n**2)))\n",
    "            fxx,cxx=ss.coherence(ch_m, ch_n,250, window='hann', nperseg=250,noverlap=None, nfft=None, detrend='constant', axis=-1)\n",
    "            coherence[:,jj,j]=cxx\n",
    "    np.save('s'+str(num_subjects[i])+'_coherence_all_band_2nd', coherence) "
   ]
  },
  {
   "cell_type": "code",
   "execution_count": 4,
   "id": "555faaaf",
   "metadata": {},
   "outputs": [
    {
     "data": {
      "text/plain": [
       "(126, 63, 63)"
      ]
     },
     "execution_count": 4,
     "metadata": {},
     "output_type": "execute_result"
    }
   ],
   "source": [
    "coherence.shape"
   ]
  },
  {
   "cell_type": "code",
   "execution_count": null,
   "id": "50efa5cb",
   "metadata": {},
   "outputs": [],
   "source": []
  }
 ],
 "metadata": {
  "kernelspec": {
   "display_name": "Python 3",
   "language": "python",
   "name": "python3"
  },
  "language_info": {
   "codemirror_mode": {
    "name": "ipython",
    "version": 3
   },
   "file_extension": ".py",
   "mimetype": "text/x-python",
   "name": "python",
   "nbconvert_exporter": "python",
   "pygments_lexer": "ipython3",
   "version": "3.8.8"
  }
 },
 "nbformat": 4,
 "nbformat_minor": 5
}
